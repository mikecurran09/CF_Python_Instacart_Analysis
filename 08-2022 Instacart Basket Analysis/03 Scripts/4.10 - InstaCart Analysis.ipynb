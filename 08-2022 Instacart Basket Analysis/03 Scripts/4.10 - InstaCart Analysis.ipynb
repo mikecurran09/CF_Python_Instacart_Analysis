{
 "cells": [
  {
   "cell_type": "markdown",
   "id": "70121903",
   "metadata": {},
   "source": [
    "#### Contents\n",
    "    01. Notebook Set-Up\n",
    "    02. Data Security\n",
    "    03. Geographic Areas\n",
    "        A. Region Flags\n",
    "        B. Spending habits between the different US regions\n",
    "    04. Low-activity Customers\n",
    "##### ---Proceeding with only \"High\" activity customers---\n",
    "    05. Stakeholder Key Questions\n",
    "        A. Price Range Groups\n",
    "        B. Department & Product Frequency\n",
    "        C. Loyalty Analysis\n",
    "        D. Region Analysis\n",
    "        E. Age Analysis\n",
    "        F. Demographic Analysis\n",
    "        G. Customer Profiles\n",
    "    06. Export"
   ]
  },
  {
   "cell_type": "markdown",
   "id": "9ff45a9d",
   "metadata": {},
   "source": [
    "# 1. Set-Up"
   ]
  },
  {
   "cell_type": "code",
   "execution_count": 1,
   "id": "59261414",
   "metadata": {},
   "outputs": [],
   "source": [
    "# Import libraries\n",
    "\n",
    "import pandas as pd\n",
    "import numpy as np\n",
    "import os\n",
    "import matplotlib.pyplot as plt\n",
    "import seaborn as sns\n",
    "import scipy"
   ]
  },
  {
   "cell_type": "code",
   "execution_count": 2,
   "id": "e67f71a5",
   "metadata": {},
   "outputs": [],
   "source": [
    "# File pathway\n",
    "\n",
    "path = r'/Users/Owner/Documents/Data Analytics/4 Python/08-2022 Instacart Basket Analysis'"
   ]
  },
  {
   "cell_type": "code",
   "execution_count": 3,
   "id": "b94a89de",
   "metadata": {},
   "outputs": [],
   "source": [
    "# Import data set\n",
    "\n",
    "df_ords_prods_cust = pd.read_pickle(os.path.join(path, '02 Data', 'Prepared Data', 'ords_prods_cust.pkl'))\n",
    "df_dept = pd.read_csv(os.path.join(path, '02 Data', 'Prepared Data', 'departments_wrangled.csv'))"
   ]
  },
  {
   "cell_type": "code",
   "execution_count": 4,
   "id": "9fd12787",
   "metadata": {},
   "outputs": [],
   "source": [
    "# Merge in the dept dataframe\n",
    "\n",
    "df = df_ords_prods_cust.merge(df_dept, on = 'department_id')"
   ]
  },
  {
   "cell_type": "code",
   "execution_count": 5,
   "id": "5b386661",
   "metadata": {},
   "outputs": [],
   "source": [
    "# Delete dataframes to reduce memory\n",
    "\n",
    "del df_ords_prods_cust\n",
    "del df_dept"
   ]
  },
  {
   "cell_type": "code",
   "execution_count": 6,
   "id": "ead3ecf7",
   "metadata": {},
   "outputs": [
    {
     "name": "stdout",
     "output_type": "stream",
     "text": [
      "<class 'pandas.core.frame.DataFrame'>\n",
      "Int64Index: 32404859 entries, 0 to 32404858\n",
      "Data columns (total 35 columns):\n",
      " #   Column                  Dtype   \n",
      "---  ------                  -----   \n",
      " 0   order_id                int64   \n",
      " 1   user_id                 int64   \n",
      " 2   order_number            int64   \n",
      " 3   orders_day_of_week      int64   \n",
      " 4   order_hour_of_day       int64   \n",
      " 5   days_since_prior_order  float64 \n",
      " 6   new_customer            bool    \n",
      " 7   product_id              int64   \n",
      " 8   add_to_cart_order       int64   \n",
      " 9   reordered               int64   \n",
      " 10  product_name            object  \n",
      " 11  aisle_id                int64   \n",
      " 12  department_id           int64   \n",
      " 13  prices                  float64 \n",
      " 14  _merge                  category\n",
      " 15  price_range_loc         object  \n",
      " 16  busiest_day             object  \n",
      " 17  busiest_days            object  \n",
      " 18  busiest_period_of_day   object  \n",
      " 19  max_order               int64   \n",
      " 20  loyalty_flag            object  \n",
      " 21  avg_price               float64 \n",
      " 22  spender_flag            object  \n",
      " 23  median_order_freq       float64 \n",
      " 24  frequency_flag          object  \n",
      " 25  first_name              object  \n",
      " 26  last_name               object  \n",
      " 27  gender                  object  \n",
      " 28  state                   object  \n",
      " 29  age                     int64   \n",
      " 30  date_joined             object  \n",
      " 31  num_of_dependants       int64   \n",
      " 32  marital_status          object  \n",
      " 33  income                  int64   \n",
      " 34  department              object  \n",
      "dtypes: bool(1), category(1), float64(4), int64(14), object(15)\n",
      "memory usage: 8.3+ GB\n"
     ]
    }
   ],
   "source": [
    "df.info()"
   ]
  },
  {
   "cell_type": "code",
   "execution_count": 7,
   "id": "f4617306",
   "metadata": {},
   "outputs": [],
   "source": [
    "# Data type correction to reduce memory\n",
    "\n",
    "df['order_id'] = df['order_id'].astype('int32')\n",
    "df['user_id'] = df['user_id'].astype('int32')\n",
    "df['order_number'] = df['order_number'].astype('int8')\n",
    "df['orders_day_of_week'] = df['orders_day_of_week'].astype('int8')\n",
    "df['order_hour_of_day'] = df['order_hour_of_day'].astype('int8')\n",
    "df['days_since_prior_order'] = df['days_since_prior_order'].astype('float16')\n",
    "df['product_id'] = df['product_id'].astype('int32')\n",
    "df['add_to_cart_order'] = df['add_to_cart_order'].astype('int8')\n",
    "df['reordered'] = df['reordered'].astype('int8')\n",
    "df['department_id'] = df['department_id'].astype('int8')\n",
    "df['prices'] = df['prices'].astype('float16')\n",
    "df['max_order'] = df['max_order'].astype('int8')\n",
    "df['avg_price'] = df['avg_price'].astype('float16')\n",
    "df['median_order_freq'] = df['median_order_freq'].astype('float16')\n",
    "df['age'] = df['age'].astype('int8')\n",
    "df['num_of_dependants'] = df['num_of_dependants'].astype('int8')\n",
    "df['income'] = df['income'].astype('int32')"
   ]
  },
  {
   "cell_type": "markdown",
   "id": "01eb904b",
   "metadata": {},
   "source": [
    "# 2. Data Security"
   ]
  },
  {
   "cell_type": "code",
   "execution_count": 8,
   "id": "cb26556a",
   "metadata": {},
   "outputs": [],
   "source": [
    "# Removing PII data & unnecessary columns\n",
    "\n",
    "df = df.drop(columns = ['first_name','last_name','aisle_id','_merge'])"
   ]
  },
  {
   "cell_type": "code",
   "execution_count": 9,
   "id": "f895e95d",
   "metadata": {},
   "outputs": [
    {
     "data": {
      "text/plain": [
       "(32404859, 31)"
      ]
     },
     "execution_count": 9,
     "metadata": {},
     "output_type": "execute_result"
    }
   ],
   "source": [
    "df.shape"
   ]
  },
  {
   "cell_type": "markdown",
   "id": "b6516a1a",
   "metadata": {},
   "source": [
    "# 3. Geographic Areas"
   ]
  },
  {
   "cell_type": "markdown",
   "id": "619df434",
   "metadata": {},
   "source": [
    "## A. Region Flags"
   ]
  },
  {
   "cell_type": "code",
   "execution_count": 10,
   "id": "045becca",
   "metadata": {},
   "outputs": [],
   "source": [
    "# Create list of regions\n",
    "\n",
    "northeast = ['Maine','New Hampshire','Vermont','Massachusetts','Rhode Island','Connecticut','New York','Pennsylvania','New Jersey']\n",
    "midwest = ['Wisconsin','Michigan','Illinois','Indiana','Ohio','North Dakota','South Dakota','Nebraska','Kansas','Minnesota','Iowa','Missouri']\n",
    "south = ['Delaware','Maryland','District of Columbia','Virginia','West Virginia','North Carolina','South Carolina','Georgia','Florida','Kentucky','Tennessee','Mississippi','Alabama','Oklahoma','Texas','Arkansas','Louisiana']\n",
    "west = ['Idaho','Montana','Wyoming','Nevada','Utah','Colorado','Arizona','New Mexico','Alaska','Washington','Oregon','California','Hawaii']"
   ]
  },
  {
   "cell_type": "code",
   "execution_count": 11,
   "id": "2314578a",
   "metadata": {},
   "outputs": [],
   "source": [
    "# Create regional flags\n",
    "\n",
    "df.loc[df['state'].isin(northeast), 'region'] = 'Northeast'\n",
    "df.loc[df['state'].isin(midwest), 'region'] = 'Midwest'\n",
    "df.loc[df['state'].isin(south), 'region'] = 'South'\n",
    "df.loc[df['state'].isin(west), 'region'] = 'West'"
   ]
  },
  {
   "cell_type": "code",
   "execution_count": 12,
   "id": "cc6a92fd",
   "metadata": {},
   "outputs": [
    {
     "data": {
      "text/plain": [
       "South        10791885\n",
       "West          8292913\n",
       "Midwest       7597325\n",
       "Northeast     5722736\n",
       "Name: region, dtype: int64"
      ]
     },
     "execution_count": 12,
     "metadata": {},
     "output_type": "execute_result"
    }
   ],
   "source": [
    "# Check flags\n",
    "\n",
    "df['region'].value_counts(dropna = False)"
   ]
  },
  {
   "cell_type": "markdown",
   "id": "59464cf5",
   "metadata": {},
   "source": [
    "#### 32,404,859 records labeled correctly"
   ]
  },
  {
   "cell_type": "markdown",
   "id": "163343a8",
   "metadata": {},
   "source": [
    "## B. Spending Habits in the different U.S. Regions"
   ]
  },
  {
   "cell_type": "code",
   "execution_count": 13,
   "id": "35b73256",
   "metadata": {},
   "outputs": [
    {
     "data": {
      "text/html": [
       "<div>\n",
       "<style scoped>\n",
       "    .dataframe tbody tr th:only-of-type {\n",
       "        vertical-align: middle;\n",
       "    }\n",
       "\n",
       "    .dataframe tbody tr th {\n",
       "        vertical-align: top;\n",
       "    }\n",
       "\n",
       "    .dataframe thead th {\n",
       "        text-align: right;\n",
       "    }\n",
       "</style>\n",
       "<table border=\"1\" class=\"dataframe\">\n",
       "  <thead>\n",
       "    <tr style=\"text-align: right;\">\n",
       "      <th>spender_flag</th>\n",
       "      <th>High spender</th>\n",
       "      <th>Low spender</th>\n",
       "    </tr>\n",
       "    <tr>\n",
       "      <th>region</th>\n",
       "      <th></th>\n",
       "      <th></th>\n",
       "    </tr>\n",
       "  </thead>\n",
       "  <tbody>\n",
       "    <tr>\n",
       "      <th>Midwest</th>\n",
       "      <td>155975</td>\n",
       "      <td>7441350</td>\n",
       "    </tr>\n",
       "    <tr>\n",
       "      <th>Northeast</th>\n",
       "      <td>108225</td>\n",
       "      <td>5614511</td>\n",
       "    </tr>\n",
       "    <tr>\n",
       "      <th>South</th>\n",
       "      <td>209691</td>\n",
       "      <td>10582194</td>\n",
       "    </tr>\n",
       "    <tr>\n",
       "      <th>West</th>\n",
       "      <td>160354</td>\n",
       "      <td>8132559</td>\n",
       "    </tr>\n",
       "  </tbody>\n",
       "</table>\n",
       "</div>"
      ],
      "text/plain": [
       "spender_flag  High spender  Low spender\n",
       "region                                 \n",
       "Midwest             155975      7441350\n",
       "Northeast           108225      5614511\n",
       "South               209691     10582194\n",
       "West                160354      8132559"
      ]
     },
     "execution_count": 13,
     "metadata": {},
     "output_type": "execute_result"
    }
   ],
   "source": [
    "# Crosstab of region by spending flag\n",
    "\n",
    "crosstab = pd.crosstab(df['region'], df['spender_flag'], dropna = False)\n",
    "crosstab"
   ]
  },
  {
   "cell_type": "code",
   "execution_count": 14,
   "id": "e1a07d00",
   "metadata": {},
   "outputs": [
    {
     "data": {
      "text/plain": [
       "region\n",
       "Midwest      12\n",
       "Northeast     9\n",
       "South        17\n",
       "West         13\n",
       "Name: state, dtype: int64"
      ]
     },
     "execution_count": 14,
     "metadata": {},
     "output_type": "execute_result"
    }
   ],
   "source": [
    "# States per region\n",
    "\n",
    "df.groupby('region')['state'].nunique()"
   ]
  },
  {
   "cell_type": "code",
   "execution_count": 15,
   "id": "02c63d85",
   "metadata": {},
   "outputs": [
    {
     "data": {
      "text/html": [
       "<div>\n",
       "<style scoped>\n",
       "    .dataframe tbody tr th:only-of-type {\n",
       "        vertical-align: middle;\n",
       "    }\n",
       "\n",
       "    .dataframe tbody tr th {\n",
       "        vertical-align: top;\n",
       "    }\n",
       "\n",
       "    .dataframe thead tr th {\n",
       "        text-align: left;\n",
       "    }\n",
       "\n",
       "    .dataframe thead tr:last-of-type th {\n",
       "        text-align: right;\n",
       "    }\n",
       "</style>\n",
       "<table border=\"1\" class=\"dataframe\">\n",
       "  <thead>\n",
       "    <tr>\n",
       "      <th></th>\n",
       "      <th>user_id</th>\n",
       "      <th>avg_price</th>\n",
       "    </tr>\n",
       "    <tr>\n",
       "      <th></th>\n",
       "      <th>nunique</th>\n",
       "      <th>mean</th>\n",
       "    </tr>\n",
       "    <tr>\n",
       "      <th>region</th>\n",
       "      <th></th>\n",
       "      <th></th>\n",
       "    </tr>\n",
       "  </thead>\n",
       "  <tbody>\n",
       "    <tr>\n",
       "      <th>Midwest</th>\n",
       "      <td>48519</td>\n",
       "      <td>12.718750</td>\n",
       "    </tr>\n",
       "    <tr>\n",
       "      <th>Northeast</th>\n",
       "      <td>36388</td>\n",
       "      <td>11.554688</td>\n",
       "    </tr>\n",
       "    <tr>\n",
       "      <th>South</th>\n",
       "      <td>68737</td>\n",
       "      <td>12.195312</td>\n",
       "    </tr>\n",
       "    <tr>\n",
       "      <th>West</th>\n",
       "      <td>52565</td>\n",
       "      <td>11.320312</td>\n",
       "    </tr>\n",
       "  </tbody>\n",
       "</table>\n",
       "</div>"
      ],
      "text/plain": [
       "          user_id  avg_price\n",
       "          nunique       mean\n",
       "region                      \n",
       "Midwest     48519  12.718750\n",
       "Northeast   36388  11.554688\n",
       "South       68737  12.195312\n",
       "West        52565  11.320312"
      ]
     },
     "execution_count": 15,
     "metadata": {},
     "output_type": "execute_result"
    }
   ],
   "source": [
    "# Customers by region\n",
    "\n",
    "df.groupby('region').agg({'user_id': ['nunique'], 'avg_price': ['mean']})"
   ]
  },
  {
   "cell_type": "markdown",
   "id": "df5d1645",
   "metadata": {},
   "source": [
    "#### We can see that the South has more states, customers, and revenue than any other part of the country. On the other hand, customers in the Midwest spend the most on average per person."
   ]
  },
  {
   "cell_type": "markdown",
   "id": "9feb1656",
   "metadata": {},
   "source": [
    "# 4. Low-activity Customers"
   ]
  },
  {
   "cell_type": "code",
   "execution_count": 16,
   "id": "82f634e1",
   "metadata": {},
   "outputs": [],
   "source": [
    "# Create customer activity flag\n",
    "\n",
    "df.loc[df['max_order'] >= 5, 'activity'] = 'High'\n",
    "df.loc[df['max_order'] < 5, 'activity'] = 'Low'"
   ]
  },
  {
   "cell_type": "code",
   "execution_count": 17,
   "id": "ec64c3cb",
   "metadata": {},
   "outputs": [
    {
     "data": {
      "text/plain": [
       "High    30964564\n",
       "Low      1440295\n",
       "Name: activity, dtype: int64"
      ]
     },
     "execution_count": 17,
     "metadata": {},
     "output_type": "execute_result"
    }
   ],
   "source": [
    "df['activity'].value_counts(dropna = False)"
   ]
  },
  {
   "cell_type": "code",
   "execution_count": 18,
   "id": "ca44a864",
   "metadata": {},
   "outputs": [],
   "source": [
    "# Create dataset of low activity customers\n",
    "\n",
    "df_inactive = df[df['activity'] == 'Low']"
   ]
  },
  {
   "cell_type": "code",
   "execution_count": 19,
   "id": "acdae7e3",
   "metadata": {},
   "outputs": [],
   "source": [
    "# Export the dataset of low activity customers\n",
    "\n",
    "df_inactive.to_pickle(os.path.join(path, '02 Data', 'Prepared Data', 'inactive_customers.pkl'))"
   ]
  },
  {
   "cell_type": "code",
   "execution_count": 20,
   "id": "c96405f3",
   "metadata": {},
   "outputs": [],
   "source": [
    "# Create dataset of high activity customers\n",
    "\n",
    "df_active = df[df['activity'] == 'High']"
   ]
  },
  {
   "cell_type": "code",
   "execution_count": 21,
   "id": "ad3b9465",
   "metadata": {},
   "outputs": [],
   "source": [
    "# Delete dataframes to reduce memory usage\n",
    "\n",
    "del df_inactive\n",
    "del df"
   ]
  },
  {
   "cell_type": "code",
   "execution_count": 22,
   "id": "edfcbd1e",
   "metadata": {},
   "outputs": [
    {
     "data": {
      "text/plain": [
       "(30964564, 33)"
      ]
     },
     "execution_count": 22,
     "metadata": {},
     "output_type": "execute_result"
    }
   ],
   "source": [
    "df_active.shape"
   ]
  },
  {
   "cell_type": "code",
   "execution_count": 23,
   "id": "2786853d",
   "metadata": {},
   "outputs": [
    {
     "data": {
      "text/html": [
       "<div>\n",
       "<style scoped>\n",
       "    .dataframe tbody tr th:only-of-type {\n",
       "        vertical-align: middle;\n",
       "    }\n",
       "\n",
       "    .dataframe tbody tr th {\n",
       "        vertical-align: top;\n",
       "    }\n",
       "\n",
       "    .dataframe thead th {\n",
       "        text-align: right;\n",
       "    }\n",
       "</style>\n",
       "<table border=\"1\" class=\"dataframe\">\n",
       "  <thead>\n",
       "    <tr style=\"text-align: right;\">\n",
       "      <th></th>\n",
       "      <th>order_id</th>\n",
       "      <th>user_id</th>\n",
       "      <th>order_number</th>\n",
       "      <th>orders_day_of_week</th>\n",
       "      <th>order_hour_of_day</th>\n",
       "      <th>days_since_prior_order</th>\n",
       "      <th>new_customer</th>\n",
       "      <th>product_id</th>\n",
       "      <th>add_to_cart_order</th>\n",
       "      <th>reordered</th>\n",
       "      <th>...</th>\n",
       "      <th>gender</th>\n",
       "      <th>state</th>\n",
       "      <th>age</th>\n",
       "      <th>date_joined</th>\n",
       "      <th>num_of_dependants</th>\n",
       "      <th>marital_status</th>\n",
       "      <th>income</th>\n",
       "      <th>department</th>\n",
       "      <th>region</th>\n",
       "      <th>activity</th>\n",
       "    </tr>\n",
       "  </thead>\n",
       "  <tbody>\n",
       "    <tr>\n",
       "      <th>0</th>\n",
       "      <td>2539329</td>\n",
       "      <td>1</td>\n",
       "      <td>1</td>\n",
       "      <td>2</td>\n",
       "      <td>8</td>\n",
       "      <td>NaN</td>\n",
       "      <td>True</td>\n",
       "      <td>196</td>\n",
       "      <td>1</td>\n",
       "      <td>0</td>\n",
       "      <td>...</td>\n",
       "      <td>Female</td>\n",
       "      <td>Alabama</td>\n",
       "      <td>31</td>\n",
       "      <td>2/17/2019</td>\n",
       "      <td>3</td>\n",
       "      <td>married</td>\n",
       "      <td>40423</td>\n",
       "      <td>beverages</td>\n",
       "      <td>South</td>\n",
       "      <td>High</td>\n",
       "    </tr>\n",
       "    <tr>\n",
       "      <th>1</th>\n",
       "      <td>2398795</td>\n",
       "      <td>1</td>\n",
       "      <td>2</td>\n",
       "      <td>3</td>\n",
       "      <td>7</td>\n",
       "      <td>15.0</td>\n",
       "      <td>False</td>\n",
       "      <td>196</td>\n",
       "      <td>1</td>\n",
       "      <td>1</td>\n",
       "      <td>...</td>\n",
       "      <td>Female</td>\n",
       "      <td>Alabama</td>\n",
       "      <td>31</td>\n",
       "      <td>2/17/2019</td>\n",
       "      <td>3</td>\n",
       "      <td>married</td>\n",
       "      <td>40423</td>\n",
       "      <td>beverages</td>\n",
       "      <td>South</td>\n",
       "      <td>High</td>\n",
       "    </tr>\n",
       "    <tr>\n",
       "      <th>2</th>\n",
       "      <td>473747</td>\n",
       "      <td>1</td>\n",
       "      <td>3</td>\n",
       "      <td>3</td>\n",
       "      <td>12</td>\n",
       "      <td>21.0</td>\n",
       "      <td>False</td>\n",
       "      <td>196</td>\n",
       "      <td>1</td>\n",
       "      <td>1</td>\n",
       "      <td>...</td>\n",
       "      <td>Female</td>\n",
       "      <td>Alabama</td>\n",
       "      <td>31</td>\n",
       "      <td>2/17/2019</td>\n",
       "      <td>3</td>\n",
       "      <td>married</td>\n",
       "      <td>40423</td>\n",
       "      <td>beverages</td>\n",
       "      <td>South</td>\n",
       "      <td>High</td>\n",
       "    </tr>\n",
       "    <tr>\n",
       "      <th>3</th>\n",
       "      <td>2254736</td>\n",
       "      <td>1</td>\n",
       "      <td>4</td>\n",
       "      <td>4</td>\n",
       "      <td>7</td>\n",
       "      <td>29.0</td>\n",
       "      <td>False</td>\n",
       "      <td>196</td>\n",
       "      <td>1</td>\n",
       "      <td>1</td>\n",
       "      <td>...</td>\n",
       "      <td>Female</td>\n",
       "      <td>Alabama</td>\n",
       "      <td>31</td>\n",
       "      <td>2/17/2019</td>\n",
       "      <td>3</td>\n",
       "      <td>married</td>\n",
       "      <td>40423</td>\n",
       "      <td>beverages</td>\n",
       "      <td>South</td>\n",
       "      <td>High</td>\n",
       "    </tr>\n",
       "    <tr>\n",
       "      <th>4</th>\n",
       "      <td>431534</td>\n",
       "      <td>1</td>\n",
       "      <td>5</td>\n",
       "      <td>4</td>\n",
       "      <td>15</td>\n",
       "      <td>28.0</td>\n",
       "      <td>False</td>\n",
       "      <td>196</td>\n",
       "      <td>1</td>\n",
       "      <td>1</td>\n",
       "      <td>...</td>\n",
       "      <td>Female</td>\n",
       "      <td>Alabama</td>\n",
       "      <td>31</td>\n",
       "      <td>2/17/2019</td>\n",
       "      <td>3</td>\n",
       "      <td>married</td>\n",
       "      <td>40423</td>\n",
       "      <td>beverages</td>\n",
       "      <td>South</td>\n",
       "      <td>High</td>\n",
       "    </tr>\n",
       "  </tbody>\n",
       "</table>\n",
       "<p>5 rows × 33 columns</p>\n",
       "</div>"
      ],
      "text/plain": [
       "   order_id  user_id  order_number  orders_day_of_week  order_hour_of_day  \\\n",
       "0   2539329        1             1                   2                  8   \n",
       "1   2398795        1             2                   3                  7   \n",
       "2    473747        1             3                   3                 12   \n",
       "3   2254736        1             4                   4                  7   \n",
       "4    431534        1             5                   4                 15   \n",
       "\n",
       "   days_since_prior_order  new_customer  product_id  add_to_cart_order  \\\n",
       "0                     NaN          True         196                  1   \n",
       "1                    15.0         False         196                  1   \n",
       "2                    21.0         False         196                  1   \n",
       "3                    29.0         False         196                  1   \n",
       "4                    28.0         False         196                  1   \n",
       "\n",
       "   reordered  ...  gender    state  age date_joined num_of_dependants  \\\n",
       "0          0  ...  Female  Alabama   31   2/17/2019                 3   \n",
       "1          1  ...  Female  Alabama   31   2/17/2019                 3   \n",
       "2          1  ...  Female  Alabama   31   2/17/2019                 3   \n",
       "3          1  ...  Female  Alabama   31   2/17/2019                 3   \n",
       "4          1  ...  Female  Alabama   31   2/17/2019                 3   \n",
       "\n",
       "  marital_status income  department region  activity  \n",
       "0        married  40423   beverages  South      High  \n",
       "1        married  40423   beverages  South      High  \n",
       "2        married  40423   beverages  South      High  \n",
       "3        married  40423   beverages  South      High  \n",
       "4        married  40423   beverages  South      High  \n",
       "\n",
       "[5 rows x 33 columns]"
      ]
     },
     "execution_count": 23,
     "metadata": {},
     "output_type": "execute_result"
    }
   ],
   "source": [
    "df_active.head()"
   ]
  },
  {
   "cell_type": "markdown",
   "id": "e32e23d6",
   "metadata": {},
   "source": [
    "### Continuting analysis with 'High' activity customers only (>5 orders)"
   ]
  },
  {
   "cell_type": "markdown",
   "id": "44888dd3",
   "metadata": {},
   "source": [
    "# 5. Stakeholder Key Questions"
   ]
  },
  {
   "cell_type": "markdown",
   "id": "66362823",
   "metadata": {},
   "source": [
    "## A. Price Range Groups"
   ]
  },
  {
   "cell_type": "markdown",
   "id": "44cf946e",
   "metadata": {},
   "source": [
    "#### Marketing and sales want to use simpler price range groupings to help direct their efforts."
   ]
  },
  {
   "cell_type": "code",
   "execution_count": 24,
   "id": "60c314c5",
   "metadata": {},
   "outputs": [],
   "source": [
    "# Create unique product dataset\n",
    "\n",
    "unique_products = df_active.drop_duplicates(subset = 'product_name') "
   ]
  },
  {
   "cell_type": "code",
   "execution_count": 25,
   "id": "4579a4c9",
   "metadata": {},
   "outputs": [
    {
     "data": {
      "text/plain": [
       "Mid-range product      32803\n",
       "Low-range product      16280\n",
       "High-range products      547\n",
       "Name: price_range_loc, dtype: int64"
      ]
     },
     "execution_count": 25,
     "metadata": {},
     "output_type": "execute_result"
    }
   ],
   "source": [
    "unique_products['price_range_loc'].value_counts(dropna = False)"
   ]
  },
  {
   "cell_type": "code",
   "execution_count": 26,
   "id": "e64e8ad7",
   "metadata": {},
   "outputs": [
    {
     "data": {
      "image/png": "[encoded data removed]",
      "text/plain": [
       "<Figure size 432x288 with 1 Axes>"
      ]
     },
     "metadata": {},
     "output_type": "display_data"
    }
   ],
   "source": [
    "# Create pie chart for price range groups by price\n",
    "\n",
    "# define data\n",
    "unique_products = df_active.drop_duplicates(subset = 'product_name') \n",
    "data_price = unique_products['price_range_loc'].value_counts(dropna = False) \n",
    "labels_price = ['Mid-range products', 'Low-range products', 'High-range products']\n",
    "\n",
    "# define Seaborn color palette to use\n",
    "colors = ['#D2D79F', '#90B77D', '#42855B']\n",
    "\n",
    "# create pie chart\n",
    "price_pie, ax = plt.subplots()\n",
    "plt.pie(data_price, labels = labels_price, colors = colors, autopct='%.0f%%', textprops={'fontsize': 15})\n",
    "plt.title('Product Relation by Price Range')\n",
    "plt.show()"
   ]
  },
  {
   "cell_type": "code",
   "execution_count": 27,
   "id": "5f29107c",
   "metadata": {},
   "outputs": [
    {
     "data": {
      "text/plain": [
       "Mid-range product      20891771\n",
       "Low-range product       9674840\n",
       "High-range products      397953\n",
       "Name: price_range_loc, dtype: int64"
      ]
     },
     "execution_count": 27,
     "metadata": {},
     "output_type": "execute_result"
    }
   ],
   "source": [
    "# price range groups by orders\n",
    "\n",
    "df_active['price_range_loc'].value_counts(dropna = False)"
   ]
  },
  {
   "cell_type": "code",
   "execution_count": 28,
   "id": "ee2e25a3",
   "metadata": {},
   "outputs": [
    {
     "data": {
      "image/png": "[encoded data removed]",
      "text/plain": [
       "<Figure size 432x288 with 1 Axes>"
      ]
     },
     "metadata": {},
     "output_type": "display_data"
    }
   ],
   "source": [
    "# Create pie chart for price range groups by orders\n",
    "\n",
    "# define data\n",
    "data_price = df_active['price_range_loc'].value_counts(dropna = False) \n",
    "labels_price = ['Mid-range products', 'Low-range products', 'High-range products']\n",
    "\n",
    "# define Seaborn color palette to use\n",
    "colors = ['#D2D79F', '#90B77D', '#42855B']\n",
    "\n",
    "# create pie chart\n",
    "order_pie, ax = plt.subplots()\n",
    "plt.pie(data_price, labels = labels_price, colors = colors, autopct='%.0f%%', textprops={'fontsize': 15})\n",
    "plt.title('Order Relation by Price Range')\n",
    "plt.show()"
   ]
  },
  {
   "cell_type": "code",
   "execution_count": 29,
   "id": "d1958ebe",
   "metadata": {},
   "outputs": [],
   "source": [
    "# Export price group charts \n",
    "\n",
    "price_pie.figure.savefig(os.path.join(path, '04 Analysis','Visualizations', 'price_pie.png'))\n",
    "order_pie.figure.savefig(os.path.join(path, '04 Analysis','Visualizations', 'orders_pie.png'))"
   ]
  },
  {
   "cell_type": "markdown",
   "id": "65158ec4",
   "metadata": {},
   "source": [
    "## B. Department & Product Frequency"
   ]
  },
  {
   "cell_type": "markdown",
   "id": "dc009467",
   "metadata": {},
   "source": [
    "#### Are there certain types of products that are more popular than others?"
   ]
  },
  {
   "cell_type": "code",
   "execution_count": 30,
   "id": "a3fa2bbd",
   "metadata": {},
   "outputs": [],
   "source": [
    "# Create subset of products\n",
    "\n",
    "df_products = df_active.drop_duplicates(subset = 'product_name')"
   ]
  },
  {
   "cell_type": "code",
   "execution_count": 31,
   "id": "2ee8070c",
   "metadata": {},
   "outputs": [
    {
     "data": {
      "text/plain": [
       "Text(0, 0.5, 'Product')"
      ]
     },
     "execution_count": 31,
     "metadata": {},
     "output_type": "execute_result"
    },
    {
     "data": {
      "image/png": "[encoded data removed]",
      "text/plain": [
       "<Figure size 432x288 with 1 Axes>"
      ]
     },
     "metadata": {
      "needs_background": "light"
     },
     "output_type": "display_data"
    }
   ],
   "source": [
    "# Create popular product chart\n",
    "\n",
    "bar_inventory = df_products['department'].value_counts().nlargest(20).sort_values().plot.barh(color=['#B3541E'])\n",
    "plt.title('Inventory')\n",
    "plt.xlabel('Number of products')\n",
    "plt.ylabel('Product')"
   ]
  },
  {
   "cell_type": "markdown",
   "id": "25cea1b3",
   "metadata": {},
   "source": [
    "#### Which departments have the highest frequency of product orders?"
   ]
  },
  {
   "cell_type": "code",
   "execution_count": 32,
   "id": "968342f8",
   "metadata": {},
   "outputs": [
    {
     "data": {
      "text/plain": [
       "Text(0, 0.5, 'Department')"
      ]
     },
     "execution_count": 32,
     "metadata": {},
     "output_type": "execute_result"
    },
    {
     "data": {
      "image/png": "[encoded data removed]",
      "text/plain": [
       "<Figure size 432x288 with 1 Axes>"
      ]
     },
     "metadata": {
      "needs_background": "light"
     },
     "output_type": "display_data"
    }
   ],
   "source": [
    "# Create chart of dept freq\n",
    "\n",
    "bar_dept = df_active['department'].value_counts().sort_values().plot.barh(color=['#A13333'])\n",
    "plt.title('Number of Orders by Department')\n",
    "plt.xlabel('Number of orders (M)')\n",
    "plt.ylabel('Department')"
   ]
  },
  {
   "cell_type": "code",
   "execution_count": 33,
   "id": "0967fc54",
   "metadata": {},
   "outputs": [],
   "source": [
    "# Export Dept & Product charts \n",
    "\n",
    "bar_inventory.figure.savefig(os.path.join(path, '04 Analysis','Visualizations', 'bar_inventory.png'))\n",
    "bar_dept.figure.savefig(os.path.join(path, '04 Analysis','Visualizations', 'bar_dept.png'))"
   ]
  },
  {
   "cell_type": "markdown",
   "id": "c437e53c",
   "metadata": {},
   "source": [
    "## C. Loyalty Analysis"
   ]
  },
  {
   "cell_type": "markdown",
   "id": "c40ec416",
   "metadata": {},
   "source": [
    "#### What’s the distribution among users in regards to their brand loyalty?"
   ]
  },
  {
   "cell_type": "code",
   "execution_count": 34,
   "id": "18a8de61",
   "metadata": {},
   "outputs": [],
   "source": [
    "# Create subset of customers\n",
    "\n",
    "df_customers = df_active.drop_duplicates(subset = 'user_id')"
   ]
  },
  {
   "cell_type": "code",
   "execution_count": 35,
   "id": "62ad3f76",
   "metadata": {},
   "outputs": [
    {
     "data": {
      "text/plain": [
       "Regular customer    76864\n",
       "New customer        68750\n",
       "Loyal customer      17017\n",
       "Name: loyalty_flag, dtype: int64"
      ]
     },
     "execution_count": 35,
     "metadata": {},
     "output_type": "execute_result"
    }
   ],
   "source": [
    "df_customers['loyalty_flag'].value_counts(dropna = False) "
   ]
  },
  {
   "cell_type": "code",
   "execution_count": 36,
   "id": "b05f5d06",
   "metadata": {},
   "outputs": [
    {
     "data": {
      "image/png": "[encoded data removed]",
      "text/plain": [
       "<Figure size 432x288 with 1 Axes>"
      ]
     },
     "metadata": {},
     "output_type": "display_data"
    }
   ],
   "source": [
    "# Create pie chart for loyalty distribution\n",
    "\n",
    "# define data\n",
    "data_loyal = df_customers['loyalty_flag'].value_counts(dropna = False) \n",
    "labels_price = ['Regular customer', 'New customer', 'Loyal customer']\n",
    "\n",
    "# define Seaborn color palette to use\n",
    "colors = ['#6A67CE', '#947EC3', '#B689C0']\n",
    "\n",
    "# create pie chart\n",
    "loyal_pie, ax = plt.subplots()\n",
    "plt.pie(data_loyal, labels = labels_price, colors = colors, autopct='%.0f%%', textprops={'fontsize': 15})\n",
    "plt.title('Customer Loyalty Distribution')\n",
    "plt.show()"
   ]
  },
  {
   "cell_type": "code",
   "execution_count": 37,
   "id": "34e1a7c8",
   "metadata": {},
   "outputs": [
    {
     "data": {
      "text/html": [
       "<div>\n",
       "<style scoped>\n",
       "    .dataframe tbody tr th:only-of-type {\n",
       "        vertical-align: middle;\n",
       "    }\n",
       "\n",
       "    .dataframe tbody tr th {\n",
       "        vertical-align: top;\n",
       "    }\n",
       "\n",
       "    .dataframe thead tr th {\n",
       "        text-align: left;\n",
       "    }\n",
       "\n",
       "    .dataframe thead tr:last-of-type th {\n",
       "        text-align: right;\n",
       "    }\n",
       "</style>\n",
       "<table border=\"1\" class=\"dataframe\">\n",
       "  <thead>\n",
       "    <tr>\n",
       "      <th></th>\n",
       "      <th colspan=\"3\" halign=\"left\">median_order_freq</th>\n",
       "    </tr>\n",
       "    <tr>\n",
       "      <th></th>\n",
       "      <th>mean</th>\n",
       "      <th>min</th>\n",
       "      <th>max</th>\n",
       "    </tr>\n",
       "    <tr>\n",
       "      <th>loyalty_flag</th>\n",
       "      <th></th>\n",
       "      <th></th>\n",
       "      <th></th>\n",
       "    </tr>\n",
       "  </thead>\n",
       "  <tbody>\n",
       "    <tr>\n",
       "      <th>Loyal customer</th>\n",
       "      <td>5.304688</td>\n",
       "      <td>0.0</td>\n",
       "      <td>14.0</td>\n",
       "    </tr>\n",
       "    <tr>\n",
       "      <th>New customer</th>\n",
       "      <td>18.343750</td>\n",
       "      <td>0.0</td>\n",
       "      <td>30.0</td>\n",
       "    </tr>\n",
       "    <tr>\n",
       "      <th>Regular customer</th>\n",
       "      <td>11.546875</td>\n",
       "      <td>0.0</td>\n",
       "      <td>30.0</td>\n",
       "    </tr>\n",
       "  </tbody>\n",
       "</table>\n",
       "</div>"
      ],
      "text/plain": [
       "                 median_order_freq           \n",
       "                              mean  min   max\n",
       "loyalty_flag                                 \n",
       "Loyal customer            5.304688  0.0  14.0\n",
       "New customer             18.343750  0.0  30.0\n",
       "Regular customer         11.546875  0.0  30.0"
      ]
     },
     "execution_count": 37,
     "metadata": {},
     "output_type": "execute_result"
    }
   ],
   "source": [
    "# How often do customers return to Instacart\n",
    "\n",
    "loyal_order_freq = df_customers.groupby(['loyalty_flag']).agg({'median_order_freq':['mean', 'min', 'max']})\n",
    "loyal_order_freq"
   ]
  },
  {
   "cell_type": "markdown",
   "id": "39801770",
   "metadata": {},
   "source": [
    "##### Are there differences in ordering habits based on a customer’s loyalty status (price)\n",
    "\n",
    "loyal_price = df_active.groupby(['loyalty_flag']).agg({'price':['mean', 'min', 'max']})\n",
    "loyal_price"
   ]
  },
  {
   "cell_type": "code",
   "execution_count": 38,
   "id": "634b2c33",
   "metadata": {},
   "outputs": [
    {
     "data": {
      "text/plain": [
       "Regular customer    15876776\n",
       "Loyal customer      10284093\n",
       "New customer         4803695\n",
       "Name: loyalty_flag, dtype: int64"
      ]
     },
     "execution_count": 38,
     "metadata": {},
     "output_type": "execute_result"
    }
   ],
   "source": [
    "# Are there differences in ordering habits based on a customer’s loyalty status (orders)\n",
    "\n",
    "df_active['loyalty_flag'].value_counts(dropna = False) "
   ]
  },
  {
   "cell_type": "code",
   "execution_count": 39,
   "id": "09a30401",
   "metadata": {},
   "outputs": [
    {
     "data": {
      "image/png": "[encoded data removed]",
      "text/plain": [
       "<Figure size 432x288 with 1 Axes>"
      ]
     },
     "metadata": {},
     "output_type": "display_data"
    }
   ],
   "source": [
    "# Create pie chart for loyalty orders\n",
    "\n",
    "# define data\n",
    "data_loyal_order = df_active['loyalty_flag'].value_counts(dropna = False) \n",
    "labels_price = ['Regular customer', 'Loyal customer', 'New customer']\n",
    "\n",
    "# define Seaborn color palette to use\n",
    "colors = ['#6A67CE', '#B689C0', '#947EC3']\n",
    "\n",
    "# create pie chart\n",
    "loyal_order_pie, ax = plt.subplots()\n",
    "plt.pie(data_loyal_order, labels = labels_price, colors = colors, autopct='%.0f%%', textprops={'fontsize': 15})\n",
    "plt.title('Loyalty Distribution by Orders')\n",
    "plt.show()"
   ]
  },
  {
   "cell_type": "code",
   "execution_count": 40,
   "id": "c90b4422",
   "metadata": {},
   "outputs": [
    {
     "data": {
      "text/html": [
       "<div>\n",
       "<style scoped>\n",
       "    .dataframe tbody tr th:only-of-type {\n",
       "        vertical-align: middle;\n",
       "    }\n",
       "\n",
       "    .dataframe tbody tr th {\n",
       "        vertical-align: top;\n",
       "    }\n",
       "\n",
       "    .dataframe thead th {\n",
       "        text-align: right;\n",
       "    }\n",
       "</style>\n",
       "<table border=\"1\" class=\"dataframe\">\n",
       "  <thead>\n",
       "    <tr style=\"text-align: right;\">\n",
       "      <th>price_range_loc</th>\n",
       "      <th>High-range products</th>\n",
       "      <th>Low-range product</th>\n",
       "      <th>Mid-range product</th>\n",
       "    </tr>\n",
       "    <tr>\n",
       "      <th>loyalty_flag</th>\n",
       "      <th></th>\n",
       "      <th></th>\n",
       "      <th></th>\n",
       "    </tr>\n",
       "  </thead>\n",
       "  <tbody>\n",
       "    <tr>\n",
       "      <th>Loyal customer</th>\n",
       "      <td>119936</td>\n",
       "      <td>3214690</td>\n",
       "      <td>6949467</td>\n",
       "    </tr>\n",
       "    <tr>\n",
       "      <th>New customer</th>\n",
       "      <td>65927</td>\n",
       "      <td>1501288</td>\n",
       "      <td>3236480</td>\n",
       "    </tr>\n",
       "    <tr>\n",
       "      <th>Regular customer</th>\n",
       "      <td>212090</td>\n",
       "      <td>4958862</td>\n",
       "      <td>10705824</td>\n",
       "    </tr>\n",
       "  </tbody>\n",
       "</table>\n",
       "</div>"
      ],
      "text/plain": [
       "price_range_loc   High-range products  Low-range product  Mid-range product\n",
       "loyalty_flag                                                               \n",
       "Loyal customer                 119936            3214690            6949467\n",
       "New customer                    65927            1501288            3236480\n",
       "Regular customer               212090            4958862           10705824"
      ]
     },
     "execution_count": 40,
     "metadata": {},
     "output_type": "execute_result"
    }
   ],
   "source": [
    "# Are there differences in ordering habits based on a customer’s loyalty status (price range groups)\n",
    "\n",
    "loyalty_price_range = pd.crosstab(df_active['loyalty_flag'], df_active['price_range_loc'], dropna = False)\n",
    "loyalty_price_range_prop = pd.crosstab(df_active['loyalty_flag'], df_active['price_range_loc'], normalize = 'index')\n",
    "loyalty_price_range"
   ]
  },
  {
   "cell_type": "code",
   "execution_count": 41,
   "id": "af06d8b0",
   "metadata": {},
   "outputs": [
    {
     "data": {
      "image/png": "[encoded data removed]",
      "text/plain": [
       "<Figure size 720x432 with 1 Axes>"
      ]
     },
     "metadata": {
      "needs_background": "light"
     },
     "output_type": "display_data"
    }
   ],
   "source": [
    "# Create bar chart for loyalty price range groups\n",
    "\n",
    "bar_loyalty_product_range = loyalty_price_range_prop.plot(kind='bar', \n",
    "                    stacked=True, \n",
    "                    color = ['#42855B', '#90B77D', '#D2D79F'], \n",
    "                    figsize=(10, 6))\n",
    "\n",
    "plt.legend(loc=\"upper center\", ncol=3)\n",
    "plt.xlabel(\"Loyalty Flag\")\n",
    "plt.ylabel(\"Proportion\")\n",
    "\n",
    "for n, x in enumerate([*loyalty_price_range.index.values]):\n",
    "    for (proportion, y_loc) in zip(loyalty_price_range_prop.loc[x],\n",
    "                                   loyalty_price_range_prop.loc[x].cumsum()):\n",
    "                \n",
    "        plt.text(x=n - 0.1,\n",
    "                 y=(y_loc - proportion) + (proportion / 2),\n",
    "                 s=f'{np.round(proportion * 100, 1)}%', \n",
    "                 color=\"black\",\n",
    "                 fontsize=12,\n",
    "                 fontweight=\"bold\")\n",
    "\n",
    "plt.show()"
   ]
  },
  {
   "cell_type": "code",
   "execution_count": 42,
   "id": "eb835fa7",
   "metadata": {},
   "outputs": [],
   "source": [
    "# Export loyalty charts \n",
    "\n",
    "loyal_pie.figure.savefig(os.path.join(path, '04 Analysis','Visualizations', 'loyal_pie.png'))\n",
    "loyal_order_pie.figure.savefig(os.path.join(path, '04 Analysis','Visualizations', 'loyal_order_pie.png'))\n",
    "bar_loyalty_product_range.figure.savefig(os.path.join(path, '04 Analysis','Visualizations', 'loyal_price_group_bar.png'))"
   ]
  },
  {
   "cell_type": "markdown",
   "id": "6341548a",
   "metadata": {},
   "source": [
    "## D. Region Analysis"
   ]
  },
  {
   "cell_type": "markdown",
   "id": "55ea6b91",
   "metadata": {},
   "source": [
    "#### Are there differences in ordering habits based on a customer’s region?"
   ]
  },
  {
   "cell_type": "code",
   "execution_count": 43,
   "id": "7fabf428",
   "metadata": {},
   "outputs": [
    {
     "data": {
      "text/plain": [
       "Text(0, 0.5, 'Region')"
      ]
     },
     "execution_count": 43,
     "metadata": {},
     "output_type": "execute_result"
    },
    {
     "data": {
      "image/png": "[encoded data removed]",
      "text/plain": [
       "<Figure size 432x288 with 1 Axes>"
      ]
     },
     "metadata": {
      "needs_background": "light"
     },
     "output_type": "display_data"
    }
   ],
   "source": [
    "# Customers per region\n",
    "\n",
    "bar_region_users = df_customers['region'].value_counts().sort_values().plot.barh(color=['#CA965C', '#A47E3B', '#BF9742', '#E6B325'])\n",
    "plt.title('Customer Distribution Amoung Regions')\n",
    "plt.xlabel('Number of customers')\n",
    "plt.ylabel('Region')"
   ]
  },
  {
   "cell_type": "code",
   "execution_count": 44,
   "id": "4d3675f0",
   "metadata": {},
   "outputs": [
    {
     "data": {
      "text/html": [
       "<div>\n",
       "<style scoped>\n",
       "    .dataframe tbody tr th:only-of-type {\n",
       "        vertical-align: middle;\n",
       "    }\n",
       "\n",
       "    .dataframe tbody tr th {\n",
       "        vertical-align: top;\n",
       "    }\n",
       "\n",
       "    .dataframe thead th {\n",
       "        text-align: right;\n",
       "    }\n",
       "</style>\n",
       "<table border=\"1\" class=\"dataframe\">\n",
       "  <thead>\n",
       "    <tr style=\"text-align: right;\">\n",
       "      <th>region</th>\n",
       "      <th>Midwest</th>\n",
       "      <th>Northeast</th>\n",
       "      <th>South</th>\n",
       "      <th>West</th>\n",
       "    </tr>\n",
       "    <tr>\n",
       "      <th>department</th>\n",
       "      <th></th>\n",
       "      <th></th>\n",
       "      <th></th>\n",
       "      <th></th>\n",
       "    </tr>\n",
       "  </thead>\n",
       "  <tbody>\n",
       "    <tr>\n",
       "      <th>alcohol</th>\n",
       "      <td>34043</td>\n",
       "      <td>25017</td>\n",
       "      <td>48813</td>\n",
       "      <td>36754</td>\n",
       "    </tr>\n",
       "    <tr>\n",
       "      <th>babies</th>\n",
       "      <td>95741</td>\n",
       "      <td>72712</td>\n",
       "      <td>139511</td>\n",
       "      <td>102428</td>\n",
       "    </tr>\n",
       "    <tr>\n",
       "      <th>bakery</th>\n",
       "      <td>261753</td>\n",
       "      <td>199300</td>\n",
       "      <td>371620</td>\n",
       "      <td>288155</td>\n",
       "    </tr>\n",
       "    <tr>\n",
       "      <th>beverages</th>\n",
       "      <td>598979</td>\n",
       "      <td>462929</td>\n",
       "      <td>859419</td>\n",
       "      <td>650574</td>\n",
       "    </tr>\n",
       "    <tr>\n",
       "      <th>breakfast</th>\n",
       "      <td>156155</td>\n",
       "      <td>117904</td>\n",
       "      <td>223172</td>\n",
       "      <td>173619</td>\n",
       "    </tr>\n",
       "    <tr>\n",
       "      <th>bulk</th>\n",
       "      <td>7929</td>\n",
       "      <td>5599</td>\n",
       "      <td>11180</td>\n",
       "      <td>8743</td>\n",
       "    </tr>\n",
       "    <tr>\n",
       "      <th>canned goods</th>\n",
       "      <td>237459</td>\n",
       "      <td>176936</td>\n",
       "      <td>337458</td>\n",
       "      <td>260221</td>\n",
       "    </tr>\n",
       "    <tr>\n",
       "      <th>dairy eggs</th>\n",
       "      <td>1212490</td>\n",
       "      <td>914616</td>\n",
       "      <td>1723016</td>\n",
       "      <td>1327060</td>\n",
       "    </tr>\n",
       "    <tr>\n",
       "      <th>deli</th>\n",
       "      <td>234464</td>\n",
       "      <td>178398</td>\n",
       "      <td>333620</td>\n",
       "      <td>257352</td>\n",
       "    </tr>\n",
       "    <tr>\n",
       "      <th>dry goods pasta</th>\n",
       "      <td>193463</td>\n",
       "      <td>143817</td>\n",
       "      <td>272813</td>\n",
       "      <td>212043</td>\n",
       "    </tr>\n",
       "    <tr>\n",
       "      <th>frozen</th>\n",
       "      <td>498225</td>\n",
       "      <td>370436</td>\n",
       "      <td>709906</td>\n",
       "      <td>543164</td>\n",
       "    </tr>\n",
       "    <tr>\n",
       "      <th>household</th>\n",
       "      <td>166992</td>\n",
       "      <td>124604</td>\n",
       "      <td>230061</td>\n",
       "      <td>178200</td>\n",
       "    </tr>\n",
       "    <tr>\n",
       "      <th>international</th>\n",
       "      <td>60666</td>\n",
       "      <td>44678</td>\n",
       "      <td>84649</td>\n",
       "      <td>65998</td>\n",
       "    </tr>\n",
       "    <tr>\n",
       "      <th>meat seafood</th>\n",
       "      <td>158260</td>\n",
       "      <td>118571</td>\n",
       "      <td>224120</td>\n",
       "      <td>173830</td>\n",
       "    </tr>\n",
       "    <tr>\n",
       "      <th>missing</th>\n",
       "      <td>15563</td>\n",
       "      <td>11512</td>\n",
       "      <td>21787</td>\n",
       "      <td>15906</td>\n",
       "    </tr>\n",
       "    <tr>\n",
       "      <th>other</th>\n",
       "      <td>7983</td>\n",
       "      <td>6268</td>\n",
       "      <td>11579</td>\n",
       "      <td>8581</td>\n",
       "    </tr>\n",
       "    <tr>\n",
       "      <th>pantry</th>\n",
       "      <td>420334</td>\n",
       "      <td>312731</td>\n",
       "      <td>591754</td>\n",
       "      <td>457886</td>\n",
       "    </tr>\n",
       "    <tr>\n",
       "      <th>personal care</th>\n",
       "      <td>100398</td>\n",
       "      <td>74765</td>\n",
       "      <td>142496</td>\n",
       "      <td>106647</td>\n",
       "    </tr>\n",
       "    <tr>\n",
       "      <th>pets</th>\n",
       "      <td>21358</td>\n",
       "      <td>17734</td>\n",
       "      <td>29909</td>\n",
       "      <td>24059</td>\n",
       "    </tr>\n",
       "    <tr>\n",
       "      <th>produce</th>\n",
       "      <td>2134115</td>\n",
       "      <td>1593004</td>\n",
       "      <td>3027476</td>\n",
       "      <td>2324678</td>\n",
       "    </tr>\n",
       "    <tr>\n",
       "      <th>snacks</th>\n",
       "      <td>645143</td>\n",
       "      <td>493154</td>\n",
       "      <td>916780</td>\n",
       "      <td>711329</td>\n",
       "    </tr>\n",
       "  </tbody>\n",
       "</table>\n",
       "</div>"
      ],
      "text/plain": [
       "region           Midwest  Northeast    South     West\n",
       "department                                           \n",
       "alcohol            34043      25017    48813    36754\n",
       "babies             95741      72712   139511   102428\n",
       "bakery            261753     199300   371620   288155\n",
       "beverages         598979     462929   859419   650574\n",
       "breakfast         156155     117904   223172   173619\n",
       "bulk                7929       5599    11180     8743\n",
       "canned goods      237459     176936   337458   260221\n",
       "dairy eggs       1212490     914616  1723016  1327060\n",
       "deli              234464     178398   333620   257352\n",
       "dry goods pasta   193463     143817   272813   212043\n",
       "frozen            498225     370436   709906   543164\n",
       "household         166992     124604   230061   178200\n",
       "international      60666      44678    84649    65998\n",
       "meat seafood      158260     118571   224120   173830\n",
       "missing            15563      11512    21787    15906\n",
       "other               7983       6268    11579     8581\n",
       "pantry            420334     312731   591754   457886\n",
       "personal care     100398      74765   142496   106647\n",
       "pets               21358      17734    29909    24059\n",
       "produce          2134115    1593004  3027476  2324678\n",
       "snacks            645143     493154   916780   711329"
      ]
     },
     "execution_count": 44,
     "metadata": {},
     "output_type": "execute_result"
    }
   ],
   "source": [
    "# Are there differences in ordering habits based on a customer’s region (departments)\n",
    "\n",
    "region_dept = pd.crosstab(df_active['department'], df_active['region'], dropna = False)\n",
    "region_dept_prop = pd.crosstab(df_active['department'], df_active['region'], normalize = 'index')\n",
    "region_dept"
   ]
  },
  {
   "cell_type": "code",
   "execution_count": 45,
   "id": "858c9647",
   "metadata": {},
   "outputs": [
    {
     "data": {
      "image/png": "[encoded data removed]",
      "text/plain": [
       "<Figure size 720x432 with 1 Axes>"
      ]
     },
     "metadata": {
      "needs_background": "light"
     },
     "output_type": "display_data"
    }
   ],
   "source": [
    "# Create bar chart for regional department groups\n",
    "\n",
    "bar_region_dept = region_dept_prop.plot(kind='barh', \n",
    "                    stacked=True, \n",
    "                    color = ['#A47E3B', '#CA965C', '#E6B325', '#BF9742'], \n",
    "                    figsize=(10, 6))\n",
    "\n",
    "plt.legend(loc=\"upper center\")\n",
    "plt.xlabel(\"Proportion\")\n",
    "plt.ylabel(\"Department\")\n",
    "\n",
    "for n, x in enumerate([*region_dept.index.values]):\n",
    "    for (proportion, y_loc) in zip(region_dept_prop.loc[x],\n",
    "                                   region_dept_prop.loc[x].cumsum()):\n",
    "                \n",
    "        plt.text(x=(y_loc - proportion) + (proportion / 2),\n",
    "                 y=n - 0.2,\n",
    "                 s=f'{np.round(proportion * 100, 1)}%', \n",
    "                 color=\"black\",\n",
    "                 fontsize=10)\n",
    "\n",
    "plt.show()"
   ]
  },
  {
   "cell_type": "code",
   "execution_count": 46,
   "id": "5a1336ee",
   "metadata": {},
   "outputs": [
    {
     "data": {
      "text/html": [
       "<div>\n",
       "<style scoped>\n",
       "    .dataframe tbody tr th:only-of-type {\n",
       "        vertical-align: middle;\n",
       "    }\n",
       "\n",
       "    .dataframe tbody tr th {\n",
       "        vertical-align: top;\n",
       "    }\n",
       "\n",
       "    .dataframe thead tr th {\n",
       "        text-align: left;\n",
       "    }\n",
       "\n",
       "    .dataframe thead tr:last-of-type th {\n",
       "        text-align: right;\n",
       "    }\n",
       "</style>\n",
       "<table border=\"1\" class=\"dataframe\">\n",
       "  <thead>\n",
       "    <tr>\n",
       "      <th></th>\n",
       "      <th colspan=\"3\" halign=\"left\">median_order_freq</th>\n",
       "      <th colspan=\"3\" halign=\"left\">prices</th>\n",
       "    </tr>\n",
       "    <tr>\n",
       "      <th></th>\n",
       "      <th>mean</th>\n",
       "      <th>min</th>\n",
       "      <th>max</th>\n",
       "      <th>mean</th>\n",
       "      <th>min</th>\n",
       "      <th>max</th>\n",
       "    </tr>\n",
       "    <tr>\n",
       "      <th>region</th>\n",
       "      <th></th>\n",
       "      <th></th>\n",
       "      <th></th>\n",
       "      <th></th>\n",
       "      <th></th>\n",
       "      <th></th>\n",
       "    </tr>\n",
       "  </thead>\n",
       "  <tbody>\n",
       "    <tr>\n",
       "      <th>Midwest</th>\n",
       "      <td>10.023438</td>\n",
       "      <td>0.0</td>\n",
       "      <td>30.0</td>\n",
       "      <td>7.792969</td>\n",
       "      <td>1.0</td>\n",
       "      <td>25.0</td>\n",
       "    </tr>\n",
       "    <tr>\n",
       "      <th>Northeast</th>\n",
       "      <td>9.921875</td>\n",
       "      <td>0.0</td>\n",
       "      <td>30.0</td>\n",
       "      <td>7.781250</td>\n",
       "      <td>1.0</td>\n",
       "      <td>25.0</td>\n",
       "    </tr>\n",
       "    <tr>\n",
       "      <th>South</th>\n",
       "      <td>9.953125</td>\n",
       "      <td>0.0</td>\n",
       "      <td>30.0</td>\n",
       "      <td>7.792969</td>\n",
       "      <td>1.0</td>\n",
       "      <td>25.0</td>\n",
       "    </tr>\n",
       "    <tr>\n",
       "      <th>West</th>\n",
       "      <td>9.921875</td>\n",
       "      <td>0.0</td>\n",
       "      <td>30.0</td>\n",
       "      <td>7.789062</td>\n",
       "      <td>1.0</td>\n",
       "      <td>25.0</td>\n",
       "    </tr>\n",
       "  </tbody>\n",
       "</table>\n",
       "</div>"
      ],
      "text/plain": [
       "          median_order_freq               prices           \n",
       "                       mean  min   max      mean  min   max\n",
       "region                                                     \n",
       "Midwest           10.023438  0.0  30.0  7.792969  1.0  25.0\n",
       "Northeast          9.921875  0.0  30.0  7.781250  1.0  25.0\n",
       "South              9.953125  0.0  30.0  7.792969  1.0  25.0\n",
       "West               9.921875  0.0  30.0  7.789062  1.0  25.0"
      ]
     },
     "execution_count": 46,
     "metadata": {},
     "output_type": "execute_result"
    }
   ],
   "source": [
    "# Are there differences in ordering habits based on a customer’s region (price)\n",
    "\n",
    "loyal_price = df_active.groupby(['region']).agg({'median_order_freq':['mean', 'min', 'max'], 'prices':['mean', 'min', 'max']})\n",
    "loyal_price"
   ]
  },
  {
   "cell_type": "code",
   "execution_count": 47,
   "id": "2341d1ce",
   "metadata": {},
   "outputs": [],
   "source": [
    "# Export region charts \n",
    "\n",
    "bar_region_users.figure.savefig(os.path.join(path, '04 Analysis','Visualizations', 'region_bar.png'))\n",
    "bar_region_dept.figure.savefig(os.path.join(path, '04 Analysis','Visualizations', 'region_dept_bar.png'))"
   ]
  },
  {
   "cell_type": "markdown",
   "id": "366247fa",
   "metadata": {},
   "source": [
    "## E. Age Analysis"
   ]
  },
  {
   "cell_type": "markdown",
   "id": "aed5e9d8",
   "metadata": {},
   "source": [
    "#### # Is there a connection between age in terms of ordering habits?"
   ]
  },
  {
   "cell_type": "code",
   "execution_count": 48,
   "id": "dc5cfd26",
   "metadata": {},
   "outputs": [
    {
     "data": {
      "text/plain": [
       "count    3.096456e+07\n",
       "mean     4.946803e+01\n",
       "std      1.848528e+01\n",
       "min      1.800000e+01\n",
       "25%      3.300000e+01\n",
       "50%      4.900000e+01\n",
       "75%      6.500000e+01\n",
       "max      8.100000e+01\n",
       "Name: age, dtype: float64"
      ]
     },
     "execution_count": 48,
     "metadata": {},
     "output_type": "execute_result"
    }
   ],
   "source": [
    "# Create Age Profile\n",
    "\n",
    "df_active['age'].describe()"
   ]
  },
  {
   "cell_type": "code",
   "execution_count": 49,
   "id": "654195f8",
   "metadata": {},
   "outputs": [],
   "source": [
    "# Create age flags for young adult:18-29 years, middle-aged adult: 30-49 years, older adults:50-64 years, elderly: 65+\n",
    "\n",
    "df_active.loc[df_active['age'] < 30, 'age_group'] = 'young'\n",
    "df_active.loc[(df_active['age'] >= 30) & (df_active['age'] <= 49), 'age_group'] = 'middle'\n",
    "df_active.loc[(df_active['age'] >= 50) & (df_active['age'] <= 64), 'age_group'] = 'older'\n",
    "df_active.loc[df_active['age'] > 64, 'age_group'] = 'elderly'"
   ]
  },
  {
   "cell_type": "code",
   "execution_count": 50,
   "id": "5be0ffd6",
   "metadata": {},
   "outputs": [],
   "source": [
    "df_unique_age = df_active.drop_duplicates(subset = 'user_id')"
   ]
  },
  {
   "cell_type": "code",
   "execution_count": 51,
   "id": "6311cf6e",
   "metadata": {},
   "outputs": [
    {
     "data": {
      "text/plain": [
       "Text(0, 0.5, 'Number of customers')"
      ]
     },
     "execution_count": 51,
     "metadata": {},
     "output_type": "execute_result"
    },
    {
     "data": {
      "image/png": "[encoded data removed]",
      "text/plain": [
       "<Figure size 432x288 with 1 Axes>"
      ]
     },
     "metadata": {
      "needs_background": "light"
     },
     "output_type": "display_data"
    }
   ],
   "source": [
    "# Create bar chart for age distribution of users\n",
    "\n",
    "bar_age = df_unique_age['age_group'].value_counts().plot.bar()\n",
    "plt.title('Distribution of Age by Customers')\n",
    "plt.xlabel('Age group')\n",
    "plt.ylabel('Number of customers')"
   ]
  },
  {
   "cell_type": "code",
   "execution_count": 52,
   "id": "ba84eea5",
   "metadata": {},
   "outputs": [
    {
     "data": {
      "text/html": [
       "<div>\n",
       "<style scoped>\n",
       "    .dataframe tbody tr th:only-of-type {\n",
       "        vertical-align: middle;\n",
       "    }\n",
       "\n",
       "    .dataframe tbody tr th {\n",
       "        vertical-align: top;\n",
       "    }\n",
       "\n",
       "    .dataframe thead tr th {\n",
       "        text-align: left;\n",
       "    }\n",
       "\n",
       "    .dataframe thead tr:last-of-type th {\n",
       "        text-align: right;\n",
       "    }\n",
       "</style>\n",
       "<table border=\"1\" class=\"dataframe\">\n",
       "  <thead>\n",
       "    <tr>\n",
       "      <th></th>\n",
       "      <th colspan=\"3\" halign=\"left\">median_order_freq</th>\n",
       "      <th colspan=\"3\" halign=\"left\">prices</th>\n",
       "    </tr>\n",
       "    <tr>\n",
       "      <th></th>\n",
       "      <th>mean</th>\n",
       "      <th>min</th>\n",
       "      <th>max</th>\n",
       "      <th>mean</th>\n",
       "      <th>min</th>\n",
       "      <th>max</th>\n",
       "    </tr>\n",
       "    <tr>\n",
       "      <th>age_group</th>\n",
       "      <th></th>\n",
       "      <th></th>\n",
       "      <th></th>\n",
       "      <th></th>\n",
       "      <th></th>\n",
       "      <th></th>\n",
       "    </tr>\n",
       "  </thead>\n",
       "  <tbody>\n",
       "    <tr>\n",
       "      <th>elderly</th>\n",
       "      <td>9.929688</td>\n",
       "      <td>0.0</td>\n",
       "      <td>30.0</td>\n",
       "      <td>7.796875</td>\n",
       "      <td>1.0</td>\n",
       "      <td>25.0</td>\n",
       "    </tr>\n",
       "    <tr>\n",
       "      <th>middle</th>\n",
       "      <td>9.953125</td>\n",
       "      <td>0.0</td>\n",
       "      <td>30.0</td>\n",
       "      <td>7.792969</td>\n",
       "      <td>1.0</td>\n",
       "      <td>25.0</td>\n",
       "    </tr>\n",
       "    <tr>\n",
       "      <th>older</th>\n",
       "      <td>10.000000</td>\n",
       "      <td>0.0</td>\n",
       "      <td>30.0</td>\n",
       "      <td>7.785156</td>\n",
       "      <td>1.0</td>\n",
       "      <td>25.0</td>\n",
       "    </tr>\n",
       "    <tr>\n",
       "      <th>young</th>\n",
       "      <td>9.945312</td>\n",
       "      <td>0.0</td>\n",
       "      <td>30.0</td>\n",
       "      <td>7.781250</td>\n",
       "      <td>1.0</td>\n",
       "      <td>25.0</td>\n",
       "    </tr>\n",
       "  </tbody>\n",
       "</table>\n",
       "</div>"
      ],
      "text/plain": [
       "          median_order_freq               prices           \n",
       "                       mean  min   max      mean  min   max\n",
       "age_group                                                  \n",
       "elderly            9.929688  0.0  30.0  7.796875  1.0  25.0\n",
       "middle             9.953125  0.0  30.0  7.792969  1.0  25.0\n",
       "older             10.000000  0.0  30.0  7.785156  1.0  25.0\n",
       "young              9.945312  0.0  30.0  7.781250  1.0  25.0"
      ]
     },
     "execution_count": 52,
     "metadata": {},
     "output_type": "execute_result"
    }
   ],
   "source": [
    "#Aggregate age-profile\n",
    "\n",
    "df_active.groupby(['age_group']).agg({'median_order_freq':['mean', 'min', 'max'], 'prices':['mean', 'min', 'max']})"
   ]
  },
  {
   "cell_type": "code",
   "execution_count": 53,
   "id": "a0837849",
   "metadata": {},
   "outputs": [
    {
     "data": {
      "text/html": [
       "<div>\n",
       "<style scoped>\n",
       "    .dataframe tbody tr th:only-of-type {\n",
       "        vertical-align: middle;\n",
       "    }\n",
       "\n",
       "    .dataframe tbody tr th {\n",
       "        vertical-align: top;\n",
       "    }\n",
       "\n",
       "    .dataframe thead th {\n",
       "        text-align: right;\n",
       "    }\n",
       "</style>\n",
       "<table border=\"1\" class=\"dataframe\">\n",
       "  <thead>\n",
       "    <tr style=\"text-align: right;\">\n",
       "      <th>age_group</th>\n",
       "      <th>young</th>\n",
       "      <th>middle</th>\n",
       "      <th>older</th>\n",
       "      <th>elderly</th>\n",
       "    </tr>\n",
       "    <tr>\n",
       "      <th>order_hour_of_day</th>\n",
       "      <th></th>\n",
       "      <th></th>\n",
       "      <th></th>\n",
       "      <th></th>\n",
       "    </tr>\n",
       "  </thead>\n",
       "  <tbody>\n",
       "    <tr>\n",
       "      <th>0</th>\n",
       "      <td>39615</td>\n",
       "      <td>67399</td>\n",
       "      <td>47633</td>\n",
       "      <td>53395</td>\n",
       "    </tr>\n",
       "    <tr>\n",
       "      <th>1</th>\n",
       "      <td>21083</td>\n",
       "      <td>35282</td>\n",
       "      <td>24568</td>\n",
       "      <td>28688</td>\n",
       "    </tr>\n",
       "    <tr>\n",
       "      <th>2</th>\n",
       "      <td>12881</td>\n",
       "      <td>21204</td>\n",
       "      <td>14148</td>\n",
       "      <td>17458</td>\n",
       "    </tr>\n",
       "    <tr>\n",
       "      <th>3</th>\n",
       "      <td>9386</td>\n",
       "      <td>15328</td>\n",
       "      <td>10687</td>\n",
       "      <td>13395</td>\n",
       "    </tr>\n",
       "    <tr>\n",
       "      <th>4</th>\n",
       "      <td>9810</td>\n",
       "      <td>15018</td>\n",
       "      <td>12255</td>\n",
       "      <td>13680</td>\n",
       "    </tr>\n",
       "    <tr>\n",
       "      <th>5</th>\n",
       "      <td>16440</td>\n",
       "      <td>25076</td>\n",
       "      <td>19616</td>\n",
       "      <td>23286</td>\n",
       "    </tr>\n",
       "    <tr>\n",
       "      <th>6</th>\n",
       "      <td>55119</td>\n",
       "      <td>86279</td>\n",
       "      <td>64386</td>\n",
       "      <td>75229</td>\n",
       "    </tr>\n",
       "    <tr>\n",
       "      <th>7</th>\n",
       "      <td>163303</td>\n",
       "      <td>261898</td>\n",
       "      <td>204945</td>\n",
       "      <td>233067</td>\n",
       "    </tr>\n",
       "    <tr>\n",
       "      <th>8</th>\n",
       "      <td>308687</td>\n",
       "      <td>521368</td>\n",
       "      <td>387597</td>\n",
       "      <td>441458</td>\n",
       "    </tr>\n",
       "    <tr>\n",
       "      <th>9</th>\n",
       "      <td>443909</td>\n",
       "      <td>741962</td>\n",
       "      <td>550608</td>\n",
       "      <td>627132</td>\n",
       "    </tr>\n",
       "    <tr>\n",
       "      <th>10</th>\n",
       "      <td>500036</td>\n",
       "      <td>832815</td>\n",
       "      <td>616880</td>\n",
       "      <td>700013</td>\n",
       "    </tr>\n",
       "    <tr>\n",
       "      <th>11</th>\n",
       "      <td>495808</td>\n",
       "      <td>824581</td>\n",
       "      <td>606757</td>\n",
       "      <td>687734</td>\n",
       "    </tr>\n",
       "    <tr>\n",
       "      <th>12</th>\n",
       "      <td>467202</td>\n",
       "      <td>789514</td>\n",
       "      <td>579571</td>\n",
       "      <td>659508</td>\n",
       "    </tr>\n",
       "    <tr>\n",
       "      <th>13</th>\n",
       "      <td>476724</td>\n",
       "      <td>801528</td>\n",
       "      <td>592561</td>\n",
       "      <td>668463</td>\n",
       "    </tr>\n",
       "    <tr>\n",
       "      <th>14</th>\n",
       "      <td>482692</td>\n",
       "      <td>807458</td>\n",
       "      <td>596714</td>\n",
       "      <td>681039</td>\n",
       "    </tr>\n",
       "    <tr>\n",
       "      <th>15</th>\n",
       "      <td>478069</td>\n",
       "      <td>800037</td>\n",
       "      <td>595004</td>\n",
       "      <td>662856</td>\n",
       "    </tr>\n",
       "    <tr>\n",
       "      <th>16</th>\n",
       "      <td>456710</td>\n",
       "      <td>752285</td>\n",
       "      <td>568136</td>\n",
       "      <td>636550</td>\n",
       "    </tr>\n",
       "    <tr>\n",
       "      <th>17</th>\n",
       "      <td>372008</td>\n",
       "      <td>621099</td>\n",
       "      <td>464268</td>\n",
       "      <td>524970</td>\n",
       "    </tr>\n",
       "    <tr>\n",
       "      <th>18</th>\n",
       "      <td>284217</td>\n",
       "      <td>492359</td>\n",
       "      <td>359612</td>\n",
       "      <td>414996</td>\n",
       "    </tr>\n",
       "    <tr>\n",
       "      <th>19</th>\n",
       "      <td>223418</td>\n",
       "      <td>373852</td>\n",
       "      <td>277657</td>\n",
       "      <td>318951</td>\n",
       "    </tr>\n",
       "    <tr>\n",
       "      <th>20</th>\n",
       "      <td>175350</td>\n",
       "      <td>291340</td>\n",
       "      <td>217845</td>\n",
       "      <td>246374</td>\n",
       "    </tr>\n",
       "    <tr>\n",
       "      <th>21</th>\n",
       "      <td>141215</td>\n",
       "      <td>238488</td>\n",
       "      <td>178829</td>\n",
       "      <td>204579</td>\n",
       "    </tr>\n",
       "    <tr>\n",
       "      <th>22</th>\n",
       "      <td>113666</td>\n",
       "      <td>192691</td>\n",
       "      <td>140050</td>\n",
       "      <td>160653</td>\n",
       "    </tr>\n",
       "    <tr>\n",
       "      <th>23</th>\n",
       "      <td>70255</td>\n",
       "      <td>121825</td>\n",
       "      <td>90404</td>\n",
       "      <td>102070</td>\n",
       "    </tr>\n",
       "  </tbody>\n",
       "</table>\n",
       "</div>"
      ],
      "text/plain": [
       "age_group           young  middle   older  elderly\n",
       "order_hour_of_day                                 \n",
       "0                   39615   67399   47633    53395\n",
       "1                   21083   35282   24568    28688\n",
       "2                   12881   21204   14148    17458\n",
       "3                    9386   15328   10687    13395\n",
       "4                    9810   15018   12255    13680\n",
       "5                   16440   25076   19616    23286\n",
       "6                   55119   86279   64386    75229\n",
       "7                  163303  261898  204945   233067\n",
       "8                  308687  521368  387597   441458\n",
       "9                  443909  741962  550608   627132\n",
       "10                 500036  832815  616880   700013\n",
       "11                 495808  824581  606757   687734\n",
       "12                 467202  789514  579571   659508\n",
       "13                 476724  801528  592561   668463\n",
       "14                 482692  807458  596714   681039\n",
       "15                 478069  800037  595004   662856\n",
       "16                 456710  752285  568136   636550\n",
       "17                 372008  621099  464268   524970\n",
       "18                 284217  492359  359612   414996\n",
       "19                 223418  373852  277657   318951\n",
       "20                 175350  291340  217845   246374\n",
       "21                 141215  238488  178829   204579\n",
       "22                 113666  192691  140050   160653\n",
       "23                  70255  121825   90404   102070"
      ]
     },
     "execution_count": 53,
     "metadata": {},
     "output_type": "execute_result"
    }
   ],
   "source": [
    "# Age by order time\n",
    "\n",
    "age_time = pd.crosstab(df_active['order_hour_of_day'], df_active['age_group'])\n",
    "age_time = age_time.reindex(['young', 'middle', 'older', 'elderly'], axis = \"columns\")\n",
    "age_time"
   ]
  },
  {
   "cell_type": "code",
   "execution_count": 54,
   "id": "2313ce51",
   "metadata": {},
   "outputs": [
    {
     "data": {
      "text/plain": [
       "<matplotlib.legend.Legend at 0x7fb29baa5970>"
      ]
     },
     "execution_count": 54,
     "metadata": {},
     "output_type": "execute_result"
    },
    {
     "data": {
      "image/png": "[encoded data removed]",
      "text/plain": [
       "<Figure size 432x288 with 1 Axes>"
      ]
     },
     "metadata": {
      "needs_background": "light"
     },
     "output_type": "display_data"
    }
   ],
   "source": [
    "# Create linechart of order time by age groups\n",
    "\n",
    "line_age_time = age_time.plot(kind='line', color=['#1572A1', '#9AD0EC','#967E76', '#E3BEC6'])\n",
    "plt.title('Distribution of Ordering Hour by Age Groups ')\n",
    "plt.xlabel('Order hour')\n",
    "plt.ylabel('Number of orders')\n",
    "plt.legend()"
   ]
  },
  {
   "cell_type": "code",
   "execution_count": 55,
   "id": "fa0d50ad",
   "metadata": {},
   "outputs": [
    {
     "data": {
      "text/html": [
       "<div>\n",
       "<style scoped>\n",
       "    .dataframe tbody tr th:only-of-type {\n",
       "        vertical-align: middle;\n",
       "    }\n",
       "\n",
       "    .dataframe tbody tr th {\n",
       "        vertical-align: top;\n",
       "    }\n",
       "\n",
       "    .dataframe thead th {\n",
       "        text-align: right;\n",
       "    }\n",
       "</style>\n",
       "<table border=\"1\" class=\"dataframe\">\n",
       "  <thead>\n",
       "    <tr style=\"text-align: right;\">\n",
       "      <th>age_group</th>\n",
       "      <th>young</th>\n",
       "      <th>middle</th>\n",
       "      <th>older</th>\n",
       "      <th>elderly</th>\n",
       "    </tr>\n",
       "    <tr>\n",
       "      <th>orders_day_of_week</th>\n",
       "      <th></th>\n",
       "      <th></th>\n",
       "      <th></th>\n",
       "      <th></th>\n",
       "    </tr>\n",
       "  </thead>\n",
       "  <tbody>\n",
       "    <tr>\n",
       "      <th>0</th>\n",
       "      <td>1111151</td>\n",
       "      <td>1859033</td>\n",
       "      <td>1372182</td>\n",
       "      <td>1566244</td>\n",
       "    </tr>\n",
       "    <tr>\n",
       "      <th>1</th>\n",
       "      <td>1020744</td>\n",
       "      <td>1708943</td>\n",
       "      <td>1264504</td>\n",
       "      <td>1417495</td>\n",
       "    </tr>\n",
       "    <tr>\n",
       "      <th>2</th>\n",
       "      <td>752382</td>\n",
       "      <td>1262440</td>\n",
       "      <td>944714</td>\n",
       "      <td>1065170</td>\n",
       "    </tr>\n",
       "    <tr>\n",
       "      <th>3</th>\n",
       "      <td>684350</td>\n",
       "      <td>1153652</td>\n",
       "      <td>853183</td>\n",
       "      <td>978350</td>\n",
       "    </tr>\n",
       "    <tr>\n",
       "      <th>4</th>\n",
       "      <td>680343</td>\n",
       "      <td>1144591</td>\n",
       "      <td>843899</td>\n",
       "      <td>956161</td>\n",
       "    </tr>\n",
       "    <tr>\n",
       "      <th>5</th>\n",
       "      <td>759909</td>\n",
       "      <td>1266212</td>\n",
       "      <td>941493</td>\n",
       "      <td>1066115</td>\n",
       "    </tr>\n",
       "    <tr>\n",
       "      <th>6</th>\n",
       "      <td>808724</td>\n",
       "      <td>1335815</td>\n",
       "      <td>1000756</td>\n",
       "      <td>1146009</td>\n",
       "    </tr>\n",
       "  </tbody>\n",
       "</table>\n",
       "</div>"
      ],
      "text/plain": [
       "age_group             young   middle    older  elderly\n",
       "orders_day_of_week                                    \n",
       "0                   1111151  1859033  1372182  1566244\n",
       "1                   1020744  1708943  1264504  1417495\n",
       "2                    752382  1262440   944714  1065170\n",
       "3                    684350  1153652   853183   978350\n",
       "4                    680343  1144591   843899   956161\n",
       "5                    759909  1266212   941493  1066115\n",
       "6                    808724  1335815  1000756  1146009"
      ]
     },
     "execution_count": 55,
     "metadata": {},
     "output_type": "execute_result"
    }
   ],
   "source": [
    "# Age by order day\n",
    "\n",
    "age_day = pd.crosstab(df_active['orders_day_of_week'], df_active['age_group'])\n",
    "age_day = age_day.reindex(['young', 'middle', 'older', 'elderly'], axis = \"columns\")\n",
    "age_day"
   ]
  },
  {
   "cell_type": "code",
   "execution_count": 56,
   "id": "bc7e8af8",
   "metadata": {},
   "outputs": [
    {
     "data": {
      "text/plain": [
       "<matplotlib.legend.Legend at 0x7fb29bacb0d0>"
      ]
     },
     "execution_count": 56,
     "metadata": {},
     "output_type": "execute_result"
    },
    {
     "data": {
      "image/png": "[encoded data removed]",
      "text/plain": [
       "<Figure size 432x288 with 1 Axes>"
      ]
     },
     "metadata": {
      "needs_background": "light"
     },
     "output_type": "display_data"
    }
   ],
   "source": [
    "# Create linechart of order time by age groups\n",
    "\n",
    "line_age_day = age_day.plot(kind='line', color=['#1572A1', '#9AD0EC','#967E76', '#E3BEC6'])\n",
    "plt.title('Distribution of Ordering Day by Age Groups ')\n",
    "plt.xlabel('Order Day')\n",
    "plt.ylabel('Number of orders')\n",
    "plt.legend()"
   ]
  },
  {
   "cell_type": "code",
   "execution_count": 57,
   "id": "0bd5cfba",
   "metadata": {},
   "outputs": [],
   "source": [
    "# Export age charts \n",
    "\n",
    "bar_age.figure.savefig(os.path.join(path, '04 Analysis','Visualizations', 'age_bar.png'))\n",
    "line_age_time.figure.savefig(os.path.join(path, '04 Analysis','Visualizations', 'age_time_line.png'))\n",
    "line_age_day.figure.savefig(os.path.join(path, '04 Analysis','Visualizations', 'age_day_line.png'))"
   ]
  },
  {
   "cell_type": "markdown",
   "id": "c2c2445d",
   "metadata": {},
   "source": [
    "## F. Demographic Analysis"
   ]
  },
  {
   "cell_type": "markdown",
   "id": "a9d956ce",
   "metadata": {},
   "source": [
    "#### What different classifications does the demographic information suggest? Age? Income? Certain types of goods? Family status?"
   ]
  },
  {
   "cell_type": "code",
   "execution_count": 58,
   "id": "d3fd6ba2",
   "metadata": {},
   "outputs": [
    {
     "data": {
      "text/plain": [
       "Text(0, 0.5, 'Number of customers')"
      ]
     },
     "execution_count": 58,
     "metadata": {},
     "output_type": "execute_result"
    },
    {
     "data": {
      "image/png": "[encoded data removed]",
      "text/plain": [
       "<Figure size 432x288 with 1 Axes>"
      ]
     },
     "metadata": {
      "needs_background": "light"
     },
     "output_type": "display_data"
    }
   ],
   "source": [
    "bar_family1 = df_customers['marital_status'].value_counts().plot.bar()\n",
    "plt.title('Distribution of Family Status by Customers')\n",
    "plt.xlabel('Family Status')\n",
    "plt.ylabel('Number of customers')"
   ]
  },
  {
   "cell_type": "code",
   "execution_count": 59,
   "id": "7473d611",
   "metadata": {},
   "outputs": [
    {
     "data": {
      "text/html": [
       "<div>\n",
       "<style scoped>\n",
       "    .dataframe tbody tr th:only-of-type {\n",
       "        vertical-align: middle;\n",
       "    }\n",
       "\n",
       "    .dataframe tbody tr th {\n",
       "        vertical-align: top;\n",
       "    }\n",
       "\n",
       "    .dataframe thead th {\n",
       "        text-align: right;\n",
       "    }\n",
       "</style>\n",
       "<table border=\"1\" class=\"dataframe\">\n",
       "  <thead>\n",
       "    <tr style=\"text-align: right;\">\n",
       "      <th>gender</th>\n",
       "      <th>Female</th>\n",
       "      <th>Male</th>\n",
       "    </tr>\n",
       "    <tr>\n",
       "      <th>marital_status</th>\n",
       "      <th></th>\n",
       "      <th></th>\n",
       "    </tr>\n",
       "  </thead>\n",
       "  <tbody>\n",
       "    <tr>\n",
       "      <th>divorced/widowed</th>\n",
       "      <td>6892</td>\n",
       "      <td>6939</td>\n",
       "    </tr>\n",
       "    <tr>\n",
       "      <th>living with parents and siblings</th>\n",
       "      <td>3764</td>\n",
       "      <td>3844</td>\n",
       "    </tr>\n",
       "    <tr>\n",
       "      <th>married</th>\n",
       "      <td>56668</td>\n",
       "      <td>57628</td>\n",
       "    </tr>\n",
       "    <tr>\n",
       "      <th>single</th>\n",
       "      <td>13309</td>\n",
       "      <td>13587</td>\n",
       "    </tr>\n",
       "  </tbody>\n",
       "</table>\n",
       "</div>"
      ],
      "text/plain": [
       "gender                            Female   Male\n",
       "marital_status                                 \n",
       "divorced/widowed                    6892   6939\n",
       "living with parents and siblings    3764   3844\n",
       "married                            56668  57628\n",
       "single                             13309  13587"
      ]
     },
     "execution_count": 59,
     "metadata": {},
     "output_type": "execute_result"
    }
   ],
   "source": [
    "# marital status by gender\n",
    "\n",
    "family_type = pd.crosstab(df_customers['marital_status'], df_customers['gender'], dropna = False)\n",
    "family_type_prop = pd.crosstab(df_customers['marital_status'], df_customers['gender'], normalize = 'index')\n",
    "family_type"
   ]
  },
  {
   "cell_type": "code",
   "execution_count": 60,
   "id": "3a6f5e83",
   "metadata": {},
   "outputs": [
    {
     "data": {
      "image/png": "[encoded data removed]",
      "text/plain": [
       "<Figure size 720x432 with 1 Axes>"
      ]
     },
     "metadata": {
      "needs_background": "light"
     },
     "output_type": "display_data"
    }
   ],
   "source": [
    "# Create bar of marital status by gender\n",
    "\n",
    "bar_family = family_type_prop.plot(kind='barh', \n",
    "                    stacked=True, \n",
    "                    color = ['#FF8AAE', '#9ADCFF'], \n",
    "                    figsize=(10, 6))\n",
    "\n",
    "plt.legend(loc=\"upper center\", ncol=2)\n",
    "plt.xlabel(\"Proportion\")\n",
    "plt.ylabel(\"Family Status\")\n",
    "\n",
    "for n, x in enumerate([*family_type.index.values]):\n",
    "    for (proportion, y_loc) in zip(family_type_prop.loc[x],\n",
    "                                   family_type_prop.loc[x].cumsum()):\n",
    "                \n",
    "        plt.text(x=(y_loc - proportion) + (proportion / 2),\n",
    "                 y=n - 0.05,\n",
    "                 s=f'{np.round(proportion * 100, 1)}%', \n",
    "                 color=\"black\",\n",
    "                 fontsize=10)\n",
    "\n",
    "plt.show()"
   ]
  },
  {
   "cell_type": "code",
   "execution_count": 61,
   "id": "0f77f866",
   "metadata": {},
   "outputs": [
    {
     "data": {
      "text/html": [
       "<div>\n",
       "<style scoped>\n",
       "    .dataframe tbody tr th:only-of-type {\n",
       "        vertical-align: middle;\n",
       "    }\n",
       "\n",
       "    .dataframe tbody tr th {\n",
       "        vertical-align: top;\n",
       "    }\n",
       "\n",
       "    .dataframe thead tr th {\n",
       "        text-align: left;\n",
       "    }\n",
       "\n",
       "    .dataframe thead tr:last-of-type th {\n",
       "        text-align: right;\n",
       "    }\n",
       "</style>\n",
       "<table border=\"1\" class=\"dataframe\">\n",
       "  <thead>\n",
       "    <tr>\n",
       "      <th></th>\n",
       "      <th colspan=\"3\" halign=\"left\">median_order_freq</th>\n",
       "      <th colspan=\"3\" halign=\"left\">prices</th>\n",
       "    </tr>\n",
       "    <tr>\n",
       "      <th></th>\n",
       "      <th>mean</th>\n",
       "      <th>min</th>\n",
       "      <th>max</th>\n",
       "      <th>mean</th>\n",
       "      <th>min</th>\n",
       "      <th>max</th>\n",
       "    </tr>\n",
       "    <tr>\n",
       "      <th>marital_status</th>\n",
       "      <th></th>\n",
       "      <th></th>\n",
       "      <th></th>\n",
       "      <th></th>\n",
       "      <th></th>\n",
       "      <th></th>\n",
       "    </tr>\n",
       "  </thead>\n",
       "  <tbody>\n",
       "    <tr>\n",
       "      <th>divorced/widowed</th>\n",
       "      <td>9.875000</td>\n",
       "      <td>0.0</td>\n",
       "      <td>30.0</td>\n",
       "      <td>7.800781</td>\n",
       "      <td>1.0</td>\n",
       "      <td>25.0</td>\n",
       "    </tr>\n",
       "    <tr>\n",
       "      <th>living with parents and siblings</th>\n",
       "      <td>9.867188</td>\n",
       "      <td>0.0</td>\n",
       "      <td>30.0</td>\n",
       "      <td>7.800781</td>\n",
       "      <td>1.0</td>\n",
       "      <td>25.0</td>\n",
       "    </tr>\n",
       "    <tr>\n",
       "      <th>married</th>\n",
       "      <td>9.968750</td>\n",
       "      <td>0.0</td>\n",
       "      <td>30.0</td>\n",
       "      <td>7.789062</td>\n",
       "      <td>1.0</td>\n",
       "      <td>25.0</td>\n",
       "    </tr>\n",
       "    <tr>\n",
       "      <th>single</th>\n",
       "      <td>9.968750</td>\n",
       "      <td>0.0</td>\n",
       "      <td>30.0</td>\n",
       "      <td>7.785156</td>\n",
       "      <td>1.0</td>\n",
       "      <td>25.0</td>\n",
       "    </tr>\n",
       "  </tbody>\n",
       "</table>\n",
       "</div>"
      ],
      "text/plain": [
       "                                 median_order_freq               prices       \\\n",
       "                                              mean  min   max      mean  min   \n",
       "marital_status                                                                 \n",
       "divorced/widowed                          9.875000  0.0  30.0  7.800781  1.0   \n",
       "living with parents and siblings          9.867188  0.0  30.0  7.800781  1.0   \n",
       "married                                   9.968750  0.0  30.0  7.789062  1.0   \n",
       "single                                    9.968750  0.0  30.0  7.785156  1.0   \n",
       "\n",
       "                                        \n",
       "                                   max  \n",
       "marital_status                          \n",
       "divorced/widowed                  25.0  \n",
       "living with parents and siblings  25.0  \n",
       "married                           25.0  \n",
       "single                            25.0  "
      ]
     },
     "execution_count": 61,
     "metadata": {},
     "output_type": "execute_result"
    }
   ],
   "source": [
    "#Aggregate marital status\n",
    "\n",
    "df_active.groupby(['marital_status']).agg({'median_order_freq':['mean', 'min', 'max'], 'prices':['mean', 'min', 'max']})"
   ]
  },
  {
   "cell_type": "code",
   "execution_count": 62,
   "id": "110ba92f",
   "metadata": {},
   "outputs": [],
   "source": [
    "# Create flags for income: Low: <55,000, Middle: 55,000-155,000, High: >155,000\n",
    "\n",
    "df_active.loc[df_active['income'] < 55000, 'income_group'] = 'low'\n",
    "df_active.loc[(df_active['income'] >= 55000) & (df_active['income'] <= 155000), 'income_group'] = 'middle'\n",
    "df_active.loc[df_active['income'] > 155000, 'income_group'] = 'high'"
   ]
  },
  {
   "cell_type": "code",
   "execution_count": 63,
   "id": "d94fe637",
   "metadata": {},
   "outputs": [
    {
     "data": {
      "text/plain": [
       "middle    23488182\n",
       "low        4452388\n",
       "high       3023994\n",
       "Name: income_group, dtype: int64"
      ]
     },
     "execution_count": 63,
     "metadata": {},
     "output_type": "execute_result"
    }
   ],
   "source": [
    "df_active['income_group'].value_counts(dropna = False) "
   ]
  },
  {
   "cell_type": "code",
   "execution_count": 64,
   "id": "34a2c0dc",
   "metadata": {},
   "outputs": [
    {
     "data": {
      "text/html": [
       "<div>\n",
       "<style scoped>\n",
       "    .dataframe tbody tr th:only-of-type {\n",
       "        vertical-align: middle;\n",
       "    }\n",
       "\n",
       "    .dataframe tbody tr th {\n",
       "        vertical-align: top;\n",
       "    }\n",
       "\n",
       "    .dataframe thead tr th {\n",
       "        text-align: left;\n",
       "    }\n",
       "\n",
       "    .dataframe thead tr:last-of-type th {\n",
       "        text-align: right;\n",
       "    }\n",
       "</style>\n",
       "<table border=\"1\" class=\"dataframe\">\n",
       "  <thead>\n",
       "    <tr>\n",
       "      <th></th>\n",
       "      <th colspan=\"3\" halign=\"left\">median_order_freq</th>\n",
       "      <th colspan=\"3\" halign=\"left\">prices</th>\n",
       "    </tr>\n",
       "    <tr>\n",
       "      <th></th>\n",
       "      <th>mean</th>\n",
       "      <th>min</th>\n",
       "      <th>max</th>\n",
       "      <th>mean</th>\n",
       "      <th>min</th>\n",
       "      <th>max</th>\n",
       "    </tr>\n",
       "    <tr>\n",
       "      <th>income_group</th>\n",
       "      <th></th>\n",
       "      <th></th>\n",
       "      <th></th>\n",
       "      <th></th>\n",
       "      <th></th>\n",
       "      <th></th>\n",
       "    </tr>\n",
       "  </thead>\n",
       "  <tbody>\n",
       "    <tr>\n",
       "      <th>high</th>\n",
       "      <td>9.781250</td>\n",
       "      <td>0.0</td>\n",
       "      <td>30.0</td>\n",
       "      <td>7.937500</td>\n",
       "      <td>1.0</td>\n",
       "      <td>25.0</td>\n",
       "    </tr>\n",
       "    <tr>\n",
       "      <th>low</th>\n",
       "      <td>10.429688</td>\n",
       "      <td>0.0</td>\n",
       "      <td>30.0</td>\n",
       "      <td>6.914062</td>\n",
       "      <td>1.0</td>\n",
       "      <td>25.0</td>\n",
       "    </tr>\n",
       "    <tr>\n",
       "      <th>middle</th>\n",
       "      <td>9.890625</td>\n",
       "      <td>0.0</td>\n",
       "      <td>30.0</td>\n",
       "      <td>7.937500</td>\n",
       "      <td>1.0</td>\n",
       "      <td>25.0</td>\n",
       "    </tr>\n",
       "  </tbody>\n",
       "</table>\n",
       "</div>"
      ],
      "text/plain": [
       "             median_order_freq               prices           \n",
       "                          mean  min   max      mean  min   max\n",
       "income_group                                                  \n",
       "high                  9.781250  0.0  30.0  7.937500  1.0  25.0\n",
       "low                  10.429688  0.0  30.0  6.914062  1.0  25.0\n",
       "middle                9.890625  0.0  30.0  7.937500  1.0  25.0"
      ]
     },
     "execution_count": 64,
     "metadata": {},
     "output_type": "execute_result"
    }
   ],
   "source": [
    "#Aggregate income status\n",
    "\n",
    "df_active.groupby(['income_group']).agg({'median_order_freq':['mean', 'min', 'max'], 'prices':['mean', 'min', 'max']})"
   ]
  },
  {
   "cell_type": "code",
   "execution_count": 65,
   "id": "55a2faab",
   "metadata": {},
   "outputs": [],
   "source": [
    "# Export demographic charts \n",
    "\n",
    "bar_family.figure.savefig(os.path.join(path, '04 Analysis','Visualizations', 'family_bar.png'))\n",
    "bar_family1.figure.savefig(os.path.join(path, '04 Analysis','Visualizations', 'family_bar1.png'))"
   ]
  },
  {
   "cell_type": "markdown",
   "id": "23857445",
   "metadata": {},
   "source": [
    "## G. Customer Profiles"
   ]
  },
  {
   "cell_type": "markdown",
   "id": "378e0603",
   "metadata": {},
   "source": [
    "#### What differences can you find in ordering habits of different customer profiles? "
   ]
  },
  {
   "cell_type": "code",
   "execution_count": 66,
   "id": "230afc2a",
   "metadata": {},
   "outputs": [
    {
     "data": {
      "text/plain": [
       "0    21154311\n",
       "1     9810253\n",
       "Name: baby_status, dtype: int64"
      ]
     },
     "execution_count": 66,
     "metadata": {},
     "output_type": "execute_result"
    }
   ],
   "source": [
    "# Create baby profile\n",
    "\n",
    "df_active['baby_status'] = [1 if x == 'babies' else 0 for x in df_active['department']]\n",
    "df_active['baby_status'] = df_active.groupby(['user_id'])['baby_status'].transform(np.max)\n",
    "df_active['baby_status'].value_counts(dropna=False)"
   ]
  },
  {
   "cell_type": "code",
   "execution_count": 67,
   "id": "5b6d50c3",
   "metadata": {},
   "outputs": [],
   "source": [
    "df_active['baby_status'] = df_active['baby_status'].astype('int8')"
   ]
  },
  {
   "cell_type": "code",
   "execution_count": 68,
   "id": "b6d4cc9a",
   "metadata": {},
   "outputs": [
    {
     "data": {
      "text/html": [
       "<div>\n",
       "<style scoped>\n",
       "    .dataframe tbody tr th:only-of-type {\n",
       "        vertical-align: middle;\n",
       "    }\n",
       "\n",
       "    .dataframe tbody tr th {\n",
       "        vertical-align: top;\n",
       "    }\n",
       "\n",
       "    .dataframe thead tr th {\n",
       "        text-align: left;\n",
       "    }\n",
       "\n",
       "    .dataframe thead tr:last-of-type th {\n",
       "        text-align: right;\n",
       "    }\n",
       "</style>\n",
       "<table border=\"1\" class=\"dataframe\">\n",
       "  <thead>\n",
       "    <tr>\n",
       "      <th></th>\n",
       "      <th colspan=\"3\" halign=\"left\">median_order_freq</th>\n",
       "      <th colspan=\"3\" halign=\"left\">prices</th>\n",
       "      <th>baby_status</th>\n",
       "    </tr>\n",
       "    <tr>\n",
       "      <th></th>\n",
       "      <th>mean</th>\n",
       "      <th>min</th>\n",
       "      <th>max</th>\n",
       "      <th>mean</th>\n",
       "      <th>min</th>\n",
       "      <th>max</th>\n",
       "      <th></th>\n",
       "    </tr>\n",
       "    <tr>\n",
       "      <th>baby_status</th>\n",
       "      <th></th>\n",
       "      <th></th>\n",
       "      <th></th>\n",
       "      <th></th>\n",
       "      <th></th>\n",
       "      <th></th>\n",
       "      <th></th>\n",
       "    </tr>\n",
       "  </thead>\n",
       "  <tbody>\n",
       "    <tr>\n",
       "      <th>0</th>\n",
       "      <td>10.734375</td>\n",
       "      <td>0.0</td>\n",
       "      <td>30.0</td>\n",
       "      <td>7.769531</td>\n",
       "      <td>1.0</td>\n",
       "      <td>25.0</td>\n",
       "      <td>No baby</td>\n",
       "    </tr>\n",
       "    <tr>\n",
       "      <th>1</th>\n",
       "      <td>8.289062</td>\n",
       "      <td>0.0</td>\n",
       "      <td>30.0</td>\n",
       "      <td>7.832031</td>\n",
       "      <td>1.0</td>\n",
       "      <td>25.0</td>\n",
       "      <td>Has bought baby products</td>\n",
       "    </tr>\n",
       "  </tbody>\n",
       "</table>\n",
       "</div>"
      ],
      "text/plain": [
       "            median_order_freq               prices             \\\n",
       "                         mean  min   max      mean  min   max   \n",
       "baby_status                                                     \n",
       "0                   10.734375  0.0  30.0  7.769531  1.0  25.0   \n",
       "1                    8.289062  0.0  30.0  7.832031  1.0  25.0   \n",
       "\n",
       "                          baby_status  \n",
       "                                       \n",
       "baby_status                            \n",
       "0                             No baby  \n",
       "1            Has bought baby products  "
      ]
     },
     "execution_count": 68,
     "metadata": {},
     "output_type": "execute_result"
    }
   ],
   "source": [
    "#Aggregate baby status\n",
    "\n",
    "df_baby = df_active.groupby(['baby_status']).agg({'median_order_freq':['mean', 'min', 'max'], 'prices':['mean', 'min', 'max']})\n",
    "df_baby.loc[0:1,'baby_status'] = ['No baby', 'Has bought baby products']\n",
    "df_baby"
   ]
  },
  {
   "cell_type": "code",
   "execution_count": 69,
   "id": "a88e0aca",
   "metadata": {},
   "outputs": [
    {
     "data": {
      "image/png": "[encoded data removed]",
      "text/plain": [
       "<Figure size 432x288 with 1 Axes>"
      ]
     },
     "metadata": {},
     "output_type": "display_data"
    }
   ],
   "source": [
    "# Create pie chart for baby profile\n",
    "\n",
    "# define data\n",
    "unique_baby = df_active.drop_duplicates(subset = 'user_id') \n",
    "data_baby = unique_baby['baby_status'].value_counts(dropna = False) \n",
    "labels_baby = ['No baby', 'Has bought baby products']\n",
    "\n",
    "# define Seaborn color palette to use\n",
    "colors = ['#AA8976', '#70AF85']\n",
    "\n",
    "# create pie chart\n",
    "baby_pie, ax = plt.subplots()\n",
    "plt.pie(data_baby, labels = labels_baby, colors = colors, autopct='%.0f%%', textprops={'fontsize': 15})\n",
    "plt.show()"
   ]
  },
  {
   "cell_type": "code",
   "execution_count": 70,
   "id": "136093e1",
   "metadata": {},
   "outputs": [
    {
     "data": {
      "text/plain": [
       "0    28634074\n",
       "1     2330490\n",
       "Name: alcohol_status, dtype: int64"
      ]
     },
     "execution_count": 70,
     "metadata": {},
     "output_type": "execute_result"
    }
   ],
   "source": [
    "# Create alcohol profile\n",
    "\n",
    "df_active['alcohol_status'] = [1 if x == 'alcohol' else 0 for x in df_active['department']]\n",
    "df_active['alcohol_status'] = df_active.groupby(['user_id'])['alcohol_status'].transform(np.max)\n",
    "df_active['alcohol_status'].value_counts(dropna=False)"
   ]
  },
  {
   "cell_type": "code",
   "execution_count": 71,
   "id": "3e8ce5f7",
   "metadata": {},
   "outputs": [],
   "source": [
    "df_active['alcohol_status'] = df_active['alcohol_status'].astype('int8')"
   ]
  },
  {
   "cell_type": "code",
   "execution_count": 72,
   "id": "0df611ae",
   "metadata": {},
   "outputs": [
    {
     "data": {
      "text/html": [
       "<div>\n",
       "<style scoped>\n",
       "    .dataframe tbody tr th:only-of-type {\n",
       "        vertical-align: middle;\n",
       "    }\n",
       "\n",
       "    .dataframe tbody tr th {\n",
       "        vertical-align: top;\n",
       "    }\n",
       "\n",
       "    .dataframe thead tr th {\n",
       "        text-align: left;\n",
       "    }\n",
       "\n",
       "    .dataframe thead tr:last-of-type th {\n",
       "        text-align: right;\n",
       "    }\n",
       "</style>\n",
       "<table border=\"1\" class=\"dataframe\">\n",
       "  <thead>\n",
       "    <tr>\n",
       "      <th></th>\n",
       "      <th colspan=\"3\" halign=\"left\">median_order_freq</th>\n",
       "      <th colspan=\"3\" halign=\"left\">prices</th>\n",
       "      <th>alcohol_status</th>\n",
       "    </tr>\n",
       "    <tr>\n",
       "      <th></th>\n",
       "      <th>mean</th>\n",
       "      <th>min</th>\n",
       "      <th>max</th>\n",
       "      <th>mean</th>\n",
       "      <th>min</th>\n",
       "      <th>max</th>\n",
       "      <th></th>\n",
       "    </tr>\n",
       "    <tr>\n",
       "      <th>alcohol_status</th>\n",
       "      <th></th>\n",
       "      <th></th>\n",
       "      <th></th>\n",
       "      <th></th>\n",
       "      <th></th>\n",
       "      <th></th>\n",
       "      <th></th>\n",
       "    </tr>\n",
       "  </thead>\n",
       "  <tbody>\n",
       "    <tr>\n",
       "      <th>0</th>\n",
       "      <td>9.976562</td>\n",
       "      <td>0.0</td>\n",
       "      <td>30.0</td>\n",
       "      <td>7.792969</td>\n",
       "      <td>1.0</td>\n",
       "      <td>25.0</td>\n",
       "      <td>No alcohol</td>\n",
       "    </tr>\n",
       "    <tr>\n",
       "      <th>1</th>\n",
       "      <td>9.710938</td>\n",
       "      <td>0.0</td>\n",
       "      <td>30.0</td>\n",
       "      <td>7.781250</td>\n",
       "      <td>1.0</td>\n",
       "      <td>25.0</td>\n",
       "      <td>Has bought alcohol products</td>\n",
       "    </tr>\n",
       "  </tbody>\n",
       "</table>\n",
       "</div>"
      ],
      "text/plain": [
       "               median_order_freq               prices             \\\n",
       "                            mean  min   max      mean  min   max   \n",
       "alcohol_status                                                     \n",
       "0                       9.976562  0.0  30.0  7.792969  1.0  25.0   \n",
       "1                       9.710938  0.0  30.0  7.781250  1.0  25.0   \n",
       "\n",
       "                             alcohol_status  \n",
       "                                             \n",
       "alcohol_status                               \n",
       "0                                No alcohol  \n",
       "1               Has bought alcohol products  "
      ]
     },
     "execution_count": 72,
     "metadata": {},
     "output_type": "execute_result"
    }
   ],
   "source": [
    "#Aggregate alcohol status\n",
    "\n",
    "df_alcohol = df_active.groupby(['alcohol_status']).agg({'median_order_freq':['mean', 'min', 'max'], 'prices':['mean', 'min', 'max']})\n",
    "df_alcohol.loc[0:1,'alcohol_status'] = ['No alcohol', 'Has bought alcohol products']\n",
    "df_alcohol"
   ]
  },
  {
   "cell_type": "code",
   "execution_count": 73,
   "id": "2e4c49f8",
   "metadata": {},
   "outputs": [
    {
     "data": {
      "image/png": "[encoded data removed]",
      "text/plain": [
       "<Figure size 432x288 with 1 Axes>"
      ]
     },
     "metadata": {},
     "output_type": "display_data"
    }
   ],
   "source": [
    "# Create pie chart for alcohol profile\n",
    "\n",
    "# define data\n",
    "unique_alcohol = df_active.drop_duplicates(subset = 'user_id') \n",
    "data_alcohol = unique_alcohol['alcohol_status'].value_counts(dropna = False) \n",
    "labels_alcohol = ['No alcohol', 'Has bought alcohol products']\n",
    "\n",
    "# define Seaborn color palette to use\n",
    "colors = ['#AA8976', '#70AF85']\n",
    "\n",
    "# create pie chart\n",
    "alcohol_pie, ax = plt.subplots()\n",
    "plt.pie(data_alcohol, labels = labels_alcohol, colors = colors, autopct='%.0f%%', textprops={'fontsize': 15})\n",
    "plt.show()"
   ]
  },
  {
   "cell_type": "code",
   "execution_count": 74,
   "id": "27f89cf4",
   "metadata": {},
   "outputs": [
    {
     "data": {
      "text/plain": [
       "0    27513213\n",
       "1     3451351\n",
       "Name: pet_status, dtype: int64"
      ]
     },
     "execution_count": 74,
     "metadata": {},
     "output_type": "execute_result"
    }
   ],
   "source": [
    "# Create pet profile\n",
    "\n",
    "df_active['pet_status'] = [1 if x == 'pets' else 0 for x in df_active['department']]\n",
    "df_active['pet_status'] = df_active.groupby(['user_id'])['pet_status'].transform(np.max)\n",
    "df_active['pet_status'].value_counts(dropna=False)"
   ]
  },
  {
   "cell_type": "code",
   "execution_count": 75,
   "id": "1d1dcfd5",
   "metadata": {},
   "outputs": [],
   "source": [
    "df_active['pet_status'] = df_active['pet_status'].astype('int8')"
   ]
  },
  {
   "cell_type": "code",
   "execution_count": 76,
   "id": "e58615d6",
   "metadata": {},
   "outputs": [
    {
     "data": {
      "text/html": [
       "<div>\n",
       "<style scoped>\n",
       "    .dataframe tbody tr th:only-of-type {\n",
       "        vertical-align: middle;\n",
       "    }\n",
       "\n",
       "    .dataframe tbody tr th {\n",
       "        vertical-align: top;\n",
       "    }\n",
       "\n",
       "    .dataframe thead tr th {\n",
       "        text-align: left;\n",
       "    }\n",
       "\n",
       "    .dataframe thead tr:last-of-type th {\n",
       "        text-align: right;\n",
       "    }\n",
       "</style>\n",
       "<table border=\"1\" class=\"dataframe\">\n",
       "  <thead>\n",
       "    <tr>\n",
       "      <th></th>\n",
       "      <th colspan=\"3\" halign=\"left\">median_order_freq</th>\n",
       "      <th colspan=\"3\" halign=\"left\">prices</th>\n",
       "      <th>pet_status</th>\n",
       "    </tr>\n",
       "    <tr>\n",
       "      <th></th>\n",
       "      <th>mean</th>\n",
       "      <th>min</th>\n",
       "      <th>max</th>\n",
       "      <th>mean</th>\n",
       "      <th>min</th>\n",
       "      <th>max</th>\n",
       "      <th></th>\n",
       "    </tr>\n",
       "    <tr>\n",
       "      <th>pet_status</th>\n",
       "      <th></th>\n",
       "      <th></th>\n",
       "      <th></th>\n",
       "      <th></th>\n",
       "      <th></th>\n",
       "      <th></th>\n",
       "      <th></th>\n",
       "    </tr>\n",
       "  </thead>\n",
       "  <tbody>\n",
       "    <tr>\n",
       "      <th>0</th>\n",
       "      <td>10.054688</td>\n",
       "      <td>0.0</td>\n",
       "      <td>30.0</td>\n",
       "      <td>7.789062</td>\n",
       "      <td>1.0</td>\n",
       "      <td>25.0</td>\n",
       "      <td>No pets</td>\n",
       "    </tr>\n",
       "    <tr>\n",
       "      <th>1</th>\n",
       "      <td>9.195312</td>\n",
       "      <td>0.0</td>\n",
       "      <td>30.0</td>\n",
       "      <td>7.812500</td>\n",
       "      <td>1.0</td>\n",
       "      <td>25.0</td>\n",
       "      <td>Has bought pet products</td>\n",
       "    </tr>\n",
       "  </tbody>\n",
       "</table>\n",
       "</div>"
      ],
      "text/plain": [
       "           median_order_freq               prices             \\\n",
       "                        mean  min   max      mean  min   max   \n",
       "pet_status                                                     \n",
       "0                  10.054688  0.0  30.0  7.789062  1.0  25.0   \n",
       "1                   9.195312  0.0  30.0  7.812500  1.0  25.0   \n",
       "\n",
       "                         pet_status  \n",
       "                                     \n",
       "pet_status                           \n",
       "0                           No pets  \n",
       "1           Has bought pet products  "
      ]
     },
     "execution_count": 76,
     "metadata": {},
     "output_type": "execute_result"
    }
   ],
   "source": [
    "#Aggregate pet status\n",
    "\n",
    "df_pets = df_active.groupby(['pet_status']).agg({'median_order_freq':['mean', 'min', 'max'], 'prices':['mean', 'min', 'max']})\n",
    "df_pets.loc[0:1,'pet_status'] = ['No pets', 'Has bought pet products']\n",
    "df_pets"
   ]
  },
  {
   "cell_type": "code",
   "execution_count": 77,
   "id": "1ebb3d36",
   "metadata": {},
   "outputs": [
    {
     "data": {
      "image/png": "[encoded data removed]",
      "text/plain": [
       "<Figure size 432x288 with 1 Axes>"
      ]
     },
     "metadata": {},
     "output_type": "display_data"
    }
   ],
   "source": [
    "# Create pie chart for pet profile\n",
    "\n",
    "# define data\n",
    "unique_pets = df_active.drop_duplicates(subset = 'user_id') \n",
    "data_pets = unique_pets['pet_status'].value_counts(dropna = False) \n",
    "labels_pets = ['No pets', 'Has bought pet products']\n",
    "\n",
    "# define Seaborn color palette to use\n",
    "colors = ['#AA8976', '#70AF85']\n",
    "\n",
    "# create pie chart\n",
    "pet_pie, ax = plt.subplots()\n",
    "plt.pie(data_pets, labels = labels_pets, colors = colors, autopct='%.0f%%', textprops={'fontsize': 15})\n",
    "plt.show()"
   ]
  },
  {
   "cell_type": "code",
   "execution_count": 78,
   "id": "2798096b",
   "metadata": {},
   "outputs": [],
   "source": [
    "# Export profile charts \n",
    "\n",
    "baby_pie.figure.savefig(os.path.join(path, '04 Analysis','Visualizations', 'baby_pie.png'))\n",
    "alcohol_pie.figure.savefig(os.path.join(path, '04 Analysis','Visualizations', 'alcohol_pie.png'))\n",
    "pet_pie.figure.savefig(os.path.join(path, '04 Analysis','Visualizations', 'pet_pie.png'))"
   ]
  },
  {
   "cell_type": "markdown",
   "id": "9c97f4a1",
   "metadata": {},
   "source": [
    "# 6. Export"
   ]
  },
  {
   "cell_type": "code",
   "execution_count": 79,
   "id": "28395a3b",
   "metadata": {},
   "outputs": [],
   "source": [
    "# Export the dataset of high activity customers\n",
    "\n",
    "df_active.to_pickle(os.path.join(path, '02 Data', 'Prepared Data', 'active_customers.pkl'))"
   ]
  }
 ],
 "metadata": {
  "kernelspec": {
   "display_name": "Python 3 (ipykernel)",
   "language": "python",
   "name": "python3"
  },
  "language_info": {
   "codemirror_mode": {
    "name": "ipython",
    "version": 3
   },
   "file_extension": ".py",
   "mimetype": "text/x-python",
   "name": "python",
   "nbconvert_exporter": "python",
   "pygments_lexer": "ipython3",
   "version": "3.9.12"
  }
 },
 "nbformat": 4,
 "nbformat_minor": 5
}
