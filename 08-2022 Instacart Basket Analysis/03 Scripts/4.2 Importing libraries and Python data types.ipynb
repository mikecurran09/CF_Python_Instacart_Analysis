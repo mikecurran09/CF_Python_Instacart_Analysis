{
 "cells": [
  {
   "cell_type": "markdown",
   "id": "b8691fef",
   "metadata": {},
   "source": [
    "#### Contents\n",
    "    01. Notebook Set-Up\n",
    "    02. Learning Data Types in Python"
   ]
  },
  {
   "cell_type": "markdown",
   "id": "3d12fca2",
   "metadata": {},
   "source": [
    "# 1. Importing Libraries"
   ]
  },
  {
   "cell_type": "code",
   "execution_count": 1,
   "id": "e70dbdad",
   "metadata": {},
   "outputs": [],
   "source": [
    "# Import libraries\n",
    "import pandas as pd\n",
    "import numpy as np\n",
    "import os"
   ]
  },
  {
   "cell_type": "markdown",
   "id": "041ec40c",
   "metadata": {},
   "source": [
    "# 2. Data Types in Python"
   ]
  },
  {
   "cell_type": "code",
   "execution_count": 14,
   "id": "04f63cca",
   "metadata": {},
   "outputs": [
    {
     "data": {
      "text/plain": [
       "100"
      ]
     },
     "execution_count": 14,
     "metadata": {},
     "output_type": "execute_result"
    }
   ],
   "source": [
    "50 + 50"
   ]
  },
  {
   "cell_type": "code",
   "execution_count": 15,
   "id": "2444ee10",
   "metadata": {},
   "outputs": [
    {
     "data": {
      "text/plain": [
       "100"
      ]
     },
     "execution_count": 15,
     "metadata": {},
     "output_type": "execute_result"
    }
   ],
   "source": [
    "101 - 1"
   ]
  },
  {
   "cell_type": "code",
   "execution_count": 16,
   "id": "96375ade",
   "metadata": {},
   "outputs": [],
   "source": [
    "x = 25"
   ]
  },
  {
   "cell_type": "code",
   "execution_count": 17,
   "id": "7e25c55f",
   "metadata": {},
   "outputs": [
    {
     "data": {
      "text/plain": [
       "100"
      ]
     },
     "execution_count": 17,
     "metadata": {},
     "output_type": "execute_result"
    }
   ],
   "source": [
    "x + 75"
   ]
  },
  {
   "cell_type": "code",
   "execution_count": 22,
   "id": "ca21d609",
   "metadata": {},
   "outputs": [],
   "source": [
    "y = 50.25"
   ]
  },
  {
   "cell_type": "code",
   "execution_count": 23,
   "id": "d63a7f73",
   "metadata": {},
   "outputs": [],
   "source": [
    "z = 2.5"
   ]
  },
  {
   "cell_type": "code",
   "execution_count": 24,
   "id": "4363a575",
   "metadata": {},
   "outputs": [
    {
     "data": {
      "text/plain": [
       "20.1"
      ]
     },
     "execution_count": 24,
     "metadata": {},
     "output_type": "execute_result"
    }
   ],
   "source": [
    "y / z"
   ]
  },
  {
   "cell_type": "code",
   "execution_count": 25,
   "id": "567806af",
   "metadata": {},
   "outputs": [],
   "source": [
    "a = 'Hell'"
   ]
  },
  {
   "cell_type": "code",
   "execution_count": 26,
   "id": "a209c2d6",
   "metadata": {},
   "outputs": [],
   "source": [
    "b = 'o'"
   ]
  },
  {
   "cell_type": "code",
   "execution_count": 27,
   "id": "1e0f0f3a",
   "metadata": {},
   "outputs": [
    {
     "data": {
      "text/plain": [
       "'Hello'"
      ]
     },
     "execution_count": 27,
     "metadata": {},
     "output_type": "execute_result"
    }
   ],
   "source": [
    "a + b"
   ]
  },
  {
   "cell_type": "code",
   "execution_count": 28,
   "id": "c9fa3d0e",
   "metadata": {},
   "outputs": [],
   "source": [
    "c = 'World'"
   ]
  },
  {
   "cell_type": "code",
   "execution_count": 31,
   "id": "c91d3517",
   "metadata": {},
   "outputs": [],
   "source": [
    "d = 'It is sunny outside'"
   ]
  },
  {
   "cell_type": "code",
   "execution_count": 32,
   "id": "6f7ec872",
   "metadata": {},
   "outputs": [
    {
     "data": {
      "text/plain": [
       "'Hello World. It is sunny outside'"
      ]
     },
     "execution_count": 32,
     "metadata": {},
     "output_type": "execute_result"
    }
   ],
   "source": [
    "a + b + ' ' + c + '. ' + d"
   ]
  },
  {
   "cell_type": "code",
   "execution_count": null,
   "id": "053da7f3",
   "metadata": {},
   "outputs": [],
   "source": []
  }
 ],
 "metadata": {
  "kernelspec": {
   "display_name": "Python 3 (ipykernel)",
   "language": "python",
   "name": "python3"
  },
  "language_info": {
   "codemirror_mode": {
    "name": "ipython",
    "version": 3
   },
   "file_extension": ".py",
   "mimetype": "text/x-python",
   "name": "python",
   "nbconvert_exporter": "python",
   "pygments_lexer": "ipython3",
   "version": "3.9.12"
  }
 },
 "nbformat": 4,
 "nbformat_minor": 5
}
